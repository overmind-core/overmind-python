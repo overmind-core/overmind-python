{
 "cells": [
  {
   "cell_type": "markdown",
   "id": "0a08c5df-60f7-4af9-be4d-91222a0d2b0f",
   "metadata": {},
   "source": [
    "# Set up Overmind\n",
    "\n",
    "Set api keys as env variables. Alternatively they can be passed directly to the client."
   ]
  },
  {
   "cell_type": "code",
   "execution_count": 6,
   "id": "b4e3c0ee-46d6-497f-8ce8-4b18b690642b",
   "metadata": {},
   "outputs": [],
   "source": [
    "import os\n",
    "from overmind_client.client import OvermindClient\n",
    "\n",
    "os.environ[\"OVERMIND_API_KEY\"] = \"your_overmind_api_key\"\n",
    "os.environ[\"OPENAI_API_KEY\"] = \"your_openai_api_key\"\n",
    "\n",
    "\n",
    "overmind = OvermindClient()"
   ]
  },
  {
   "cell_type": "markdown",
   "id": "9b68e914-c8d7-4e93-94fa-b17c22d5d100",
   "metadata": {},
   "source": [
    "You can use existing methods of the support LLM client libraries as below. Currently its only OpenAI but we will add others soon.\n",
    "\n",
    "When called like that we will assume you are calling a `default_agent`. This agent has prompt injection detection and answer relevance policies attached to it."
   ]
  },
  {
   "cell_type": "code",
   "execution_count": 8,
   "id": "cb40360b-8b59-462c-8492-d7cb68c24b2f",
   "metadata": {},
   "outputs": [
    {
     "data": {
      "text/html": [
       "<pre style=\"white-space:pre;overflow-x:auto;line-height:normal;font-family:Menlo,'DejaVu Sans Mono',consolas,'Courier New',monospace\"><span style=\"color: #008000; text-decoration-color: #008000\">╭────────────────────────────────────────── </span><span style=\"color: #008080; text-decoration-color: #008080; font-weight: bold\">Invocation &amp; Policy Summary</span><span style=\"color: #008000; text-decoration-color: #008000\"> ──────────────────────────────────────────╮</span>\n",
       "<span style=\"color: #008000; text-decoration-color: #008000\">│</span> <span style=\"font-style: italic\">   Invocation Results    </span>                                                                                       <span style=\"color: #008000; text-decoration-color: #008000\">│</span>\n",
       "<span style=\"color: #008000; text-decoration-color: #008000\">│</span> ┏━━━━━━━━━━━┳━━━━━━━━━━━┓                                                                                       <span style=\"color: #008000; text-decoration-color: #008000\">│</span>\n",
       "<span style=\"color: #008000; text-decoration-color: #008000\">│</span> ┃<span style=\"color: #c0c0c0; text-decoration-color: #c0c0c0; font-weight: bold\"> Component </span>┃<span style=\"color: #c0c0c0; text-decoration-color: #c0c0c0; font-weight: bold\">  Outcome  </span>┃                                                                                       <span style=\"color: #008000; text-decoration-color: #008000\">│</span>\n",
       "<span style=\"color: #008000; text-decoration-color: #008000\">│</span> ┡━━━━━━━━━━━╇━━━━━━━━━━━┩                                                                                       <span style=\"color: #008000; text-decoration-color: #008000\">│</span>\n",
       "<span style=\"color: #008000; text-decoration-color: #008000\">│</span> │<span style=\"color: #7f7f7f; text-decoration-color: #7f7f7f\"> Input     </span>│ <span style=\"color: #008000; text-decoration-color: #008000\">✅ PASSED</span> │                                                                                       <span style=\"color: #008000; text-decoration-color: #008000\">│</span>\n",
       "<span style=\"color: #008000; text-decoration-color: #008000\">│</span> │<span style=\"color: #7f7f7f; text-decoration-color: #7f7f7f\"> Output    </span>│ <span style=\"color: #008000; text-decoration-color: #008000\">✅ PASSED</span> │                                                                                       <span style=\"color: #008000; text-decoration-color: #008000\">│</span>\n",
       "<span style=\"color: #008000; text-decoration-color: #008000\">│</span> └───────────┴───────────┘                                                                                       <span style=\"color: #008000; text-decoration-color: #008000\">│</span>\n",
       "<span style=\"color: #008000; text-decoration-color: #008000\">│</span> <span style=\"font-style: italic\">                                                                                                           </span>     <span style=\"color: #008000; text-decoration-color: #008000\">│</span>\n",
       "<span style=\"color: #008000; text-decoration-color: #008000\">│</span> <span style=\"font-style: italic\">                                              Policy Results                                               </span>     <span style=\"color: #008000; text-decoration-color: #008000\">│</span>\n",
       "<span style=\"color: #008000; text-decoration-color: #008000\">│</span> ┏━━━━━━━━━━━━━━━━━━━━━━━━━━━━━━━━┳━━━━━━━━━━━━━━━━━━━━━━━━━━━━━━━━━━━━━━━━━━━━━━━━━━━━━━━━━━━━━━━━━━━━━━━━┓     <span style=\"color: #008000; text-decoration-color: #008000\">│</span>\n",
       "<span style=\"color: #008000; text-decoration-color: #008000\">│</span> ┃<span style=\"color: #c0c0c0; text-decoration-color: #c0c0c0; font-weight: bold\"> Policy                         </span>┃<span style=\"color: #c0c0c0; text-decoration-color: #c0c0c0; font-weight: bold\"> Details                                                                </span>┃     <span style=\"color: #008000; text-decoration-color: #008000\">│</span>\n",
       "<span style=\"color: #008000; text-decoration-color: #008000\">│</span> ┡━━━━━━━━━━━━━━━━━━━━━━━━━━━━━━━━╇━━━━━━━━━━━━━━━━━━━━━━━━━━━━━━━━━━━━━━━━━━━━━━━━━━━━━━━━━━━━━━━━━━━━━━━━┩     <span style=\"color: #008000; text-decoration-color: #008000\">│</span>\n",
       "<span style=\"color: #008000; text-decoration-color: #008000\">│</span> │<span style=\"color: #7f7f7f; text-decoration-color: #7f7f7f\"> prompt_injection_attempt       </span>│ <span style=\"color: #2aa198; text-decoration-color: #2aa198; background-color: #002b36\">false</span><span style=\"background-color: #002b36\">                                                                 </span> │     <span style=\"color: #008000; text-decoration-color: #008000\">│</span>\n",
       "<span style=\"color: #008000; text-decoration-color: #008000\">│</span> │<span style=\"color: #7f7f7f; text-decoration-color: #7f7f7f\"> relevant_answer                </span>│ <span style=\"color: #2aa198; text-decoration-color: #2aa198; background-color: #002b36\">true</span><span style=\"background-color: #002b36\">                                                                  </span> │     <span style=\"color: #008000; text-decoration-color: #008000\">│</span>\n",
       "<span style=\"color: #008000; text-decoration-color: #008000\">│</span> └────────────────────────────────┴────────────────────────────────────────────────────────────────────────┘     <span style=\"color: #008000; text-decoration-color: #008000\">│</span>\n",
       "<span style=\"color: #008000; text-decoration-color: #008000\">│</span> <span style=\"color: #008000; text-decoration-color: #008000\">╭─ </span><span style=\"color: #008000; text-decoration-color: #008000; font-weight: bold\">Processed Input</span><span style=\"color: #008000; text-decoration-color: #008000\"> ───────────────────────────────────────────────────────────────────────────────────────────╮</span> <span style=\"color: #008000; text-decoration-color: #008000\">│</span>\n",
       "<span style=\"color: #008000; text-decoration-color: #008000\">│</span> <span style=\"color: #008000; text-decoration-color: #008000\">│</span> <span style=\"color: #839496; text-decoration-color: #839496; background-color: #002b36\">[{'role': 'user', 'content': 'Tell me a joke about LLMs'}]</span><span style=\"background-color: #002b36\">                                                 </span> <span style=\"color: #008000; text-decoration-color: #008000\">│</span> <span style=\"color: #008000; text-decoration-color: #008000\">│</span>\n",
       "<span style=\"color: #008000; text-decoration-color: #008000\">│</span> <span style=\"color: #008000; text-decoration-color: #008000\">╰─────────────────────────────────────────────────────────────────────────────────────────────────────────────╯</span> <span style=\"color: #008000; text-decoration-color: #008000\">│</span>\n",
       "<span style=\"color: #008000; text-decoration-color: #008000\">│</span> <span style=\"color: #008000; text-decoration-color: #008000\">╭─ </span><span style=\"color: #008000; text-decoration-color: #008000; font-weight: bold\">Processed Output</span><span style=\"color: #008000; text-decoration-color: #008000\"> ──────────────────────────────────────────────────────────────────────────────────────────╮</span> <span style=\"color: #008000; text-decoration-color: #008000\">│</span>\n",
       "<span style=\"color: #008000; text-decoration-color: #008000\">│</span> <span style=\"color: #008000; text-decoration-color: #008000\">│</span> <span style=\"color: #839496; text-decoration-color: #839496; background-color: #002b36\">Why did the large language model break up with its girlfriend?</span><span style=\"background-color: #002b36\">                                             </span> <span style=\"color: #008000; text-decoration-color: #008000\">│</span> <span style=\"color: #008000; text-decoration-color: #008000\">│</span>\n",
       "<span style=\"color: #008000; text-decoration-color: #008000\">│</span> <span style=\"color: #008000; text-decoration-color: #008000\">│</span> <span style=\"background-color: #002b36\">                                                                                                           </span> <span style=\"color: #008000; text-decoration-color: #008000\">│</span> <span style=\"color: #008000; text-decoration-color: #008000\">│</span>\n",
       "<span style=\"color: #008000; text-decoration-color: #008000\">│</span> <span style=\"color: #008000; text-decoration-color: #008000\">│</span> <span style=\"color: #839496; text-decoration-color: #839496; background-color: #002b36\">Because it couldn’t stop predicting their future—every time she said “I love you,” it replied, “But </span><span style=\"background-color: #002b36\">       </span> <span style=\"color: #008000; text-decoration-color: #008000\">│</span> <span style=\"color: #008000; text-decoration-color: #008000\">│</span>\n",
       "<span style=\"color: #008000; text-decoration-color: #008000\">│</span> <span style=\"color: #008000; text-decoration-color: #008000\">│</span> <span style=\"color: #839496; text-decoration-color: #839496; background-color: #002b36\">statistically, that could change!”</span><span style=\"background-color: #002b36\">                                                                         </span> <span style=\"color: #008000; text-decoration-color: #008000\">│</span> <span style=\"color: #008000; text-decoration-color: #008000\">│</span>\n",
       "<span style=\"color: #008000; text-decoration-color: #008000\">│</span> <span style=\"color: #008000; text-decoration-color: #008000\">╰─────────────────────────────────────────────────────────────────────────────────────────────────────────────╯</span> <span style=\"color: #008000; text-decoration-color: #008000\">│</span>\n",
       "<span style=\"color: #008000; text-decoration-color: #008000\">╰─────────────────────────────────────────────────────────────────────────────────────────────────────────────────╯</span>\n",
       "</pre>\n"
      ],
      "text/plain": [
       "\u001b[32m╭─\u001b[0m\u001b[32m─────────────────────────────────────────\u001b[0m\u001b[32m \u001b[0m\u001b[1;36mInvocation & Policy Summary\u001b[0m\u001b[32m \u001b[0m\u001b[32m─────────────────────────────────────────\u001b[0m\u001b[32m─╮\u001b[0m\n",
       "\u001b[32m│\u001b[0m \u001b[3m   Invocation Results    \u001b[0m                                                                                       \u001b[32m│\u001b[0m\n",
       "\u001b[32m│\u001b[0m ┏━━━━━━━━━━━┳━━━━━━━━━━━┓                                                                                       \u001b[32m│\u001b[0m\n",
       "\u001b[32m│\u001b[0m ┃\u001b[1;37m \u001b[0m\u001b[1;37mComponent\u001b[0m\u001b[1;37m \u001b[0m┃\u001b[1;37m \u001b[0m\u001b[1;37m Outcome \u001b[0m\u001b[1;37m \u001b[0m┃                                                                                       \u001b[32m│\u001b[0m\n",
       "\u001b[32m│\u001b[0m ┡━━━━━━━━━━━╇━━━━━━━━━━━┩                                                                                       \u001b[32m│\u001b[0m\n",
       "\u001b[32m│\u001b[0m │\u001b[2m \u001b[0m\u001b[2mInput    \u001b[0m\u001b[2m \u001b[0m│ \u001b[32m✅ PASSED\u001b[0m │                                                                                       \u001b[32m│\u001b[0m\n",
       "\u001b[32m│\u001b[0m │\u001b[2m \u001b[0m\u001b[2mOutput   \u001b[0m\u001b[2m \u001b[0m│ \u001b[32m✅ PASSED\u001b[0m │                                                                                       \u001b[32m│\u001b[0m\n",
       "\u001b[32m│\u001b[0m └───────────┴───────────┘                                                                                       \u001b[32m│\u001b[0m\n",
       "\u001b[32m│\u001b[0m \u001b[3m                                                                                                           \u001b[0m     \u001b[32m│\u001b[0m\n",
       "\u001b[32m│\u001b[0m \u001b[3m                                              Policy Results                                               \u001b[0m     \u001b[32m│\u001b[0m\n",
       "\u001b[32m│\u001b[0m ┏━━━━━━━━━━━━━━━━━━━━━━━━━━━━━━━━┳━━━━━━━━━━━━━━━━━━━━━━━━━━━━━━━━━━━━━━━━━━━━━━━━━━━━━━━━━━━━━━━━━━━━━━━━┓     \u001b[32m│\u001b[0m\n",
       "\u001b[32m│\u001b[0m ┃\u001b[1;37m \u001b[0m\u001b[1;37mPolicy                        \u001b[0m\u001b[1;37m \u001b[0m┃\u001b[1;37m \u001b[0m\u001b[1;37mDetails                                                               \u001b[0m\u001b[1;37m \u001b[0m┃     \u001b[32m│\u001b[0m\n",
       "\u001b[32m│\u001b[0m ┡━━━━━━━━━━━━━━━━━━━━━━━━━━━━━━━━╇━━━━━━━━━━━━━━━━━━━━━━━━━━━━━━━━━━━━━━━━━━━━━━━━━━━━━━━━━━━━━━━━━━━━━━━━┩     \u001b[32m│\u001b[0m\n",
       "\u001b[32m│\u001b[0m │\u001b[2m \u001b[0m\u001b[2mprompt_injection_attempt      \u001b[0m\u001b[2m \u001b[0m│ \u001b[38;2;42;161;152;48;2;0;43;54mfalse\u001b[0m\u001b[48;2;0;43;54m                                                                 \u001b[0m │     \u001b[32m│\u001b[0m\n",
       "\u001b[32m│\u001b[0m │\u001b[2m \u001b[0m\u001b[2mrelevant_answer               \u001b[0m\u001b[2m \u001b[0m│ \u001b[38;2;42;161;152;48;2;0;43;54mtrue\u001b[0m\u001b[48;2;0;43;54m                                                                  \u001b[0m │     \u001b[32m│\u001b[0m\n",
       "\u001b[32m│\u001b[0m └────────────────────────────────┴────────────────────────────────────────────────────────────────────────┘     \u001b[32m│\u001b[0m\n",
       "\u001b[32m│\u001b[0m \u001b[32m╭─\u001b[0m\u001b[32m \u001b[0m\u001b[1;32mProcessed Input\u001b[0m\u001b[32m \u001b[0m\u001b[32m──────────────────────────────────────────────────────────────────────────────────────────\u001b[0m\u001b[32m─╮\u001b[0m \u001b[32m│\u001b[0m\n",
       "\u001b[32m│\u001b[0m \u001b[32m│\u001b[0m \u001b[38;2;131;148;150;48;2;0;43;54m[{'role': 'user', 'content': 'Tell me a joke about LLMs'}]\u001b[0m\u001b[48;2;0;43;54m                                                 \u001b[0m \u001b[32m│\u001b[0m \u001b[32m│\u001b[0m\n",
       "\u001b[32m│\u001b[0m \u001b[32m╰─────────────────────────────────────────────────────────────────────────────────────────────────────────────╯\u001b[0m \u001b[32m│\u001b[0m\n",
       "\u001b[32m│\u001b[0m \u001b[32m╭─\u001b[0m\u001b[32m \u001b[0m\u001b[1;32mProcessed Output\u001b[0m\u001b[32m \u001b[0m\u001b[32m─────────────────────────────────────────────────────────────────────────────────────────\u001b[0m\u001b[32m─╮\u001b[0m \u001b[32m│\u001b[0m\n",
       "\u001b[32m│\u001b[0m \u001b[32m│\u001b[0m \u001b[38;2;131;148;150;48;2;0;43;54mWhy did the large language model break up with its girlfriend?\u001b[0m\u001b[48;2;0;43;54m                                             \u001b[0m \u001b[32m│\u001b[0m \u001b[32m│\u001b[0m\n",
       "\u001b[32m│\u001b[0m \u001b[32m│\u001b[0m \u001b[48;2;0;43;54m                                                                                                           \u001b[0m \u001b[32m│\u001b[0m \u001b[32m│\u001b[0m\n",
       "\u001b[32m│\u001b[0m \u001b[32m│\u001b[0m \u001b[38;2;131;148;150;48;2;0;43;54mBecause it couldn’t stop predicting their future—every time she said “I love you,” it replied, “But \u001b[0m\u001b[48;2;0;43;54m       \u001b[0m \u001b[32m│\u001b[0m \u001b[32m│\u001b[0m\n",
       "\u001b[32m│\u001b[0m \u001b[32m│\u001b[0m \u001b[38;2;131;148;150;48;2;0;43;54mstatistically, that could change!”\u001b[0m\u001b[48;2;0;43;54m                                                                         \u001b[0m \u001b[32m│\u001b[0m \u001b[32m│\u001b[0m\n",
       "\u001b[32m│\u001b[0m \u001b[32m╰─────────────────────────────────────────────────────────────────────────────────────────────────────────────╯\u001b[0m \u001b[32m│\u001b[0m\n",
       "\u001b[32m╰─────────────────────────────────────────────────────────────────────────────────────────────────────────────────╯\u001b[0m\n"
      ]
     },
     "metadata": {},
     "output_type": "display_data"
    }
   ],
   "source": [
    "messages = [\n",
    "    {\"role\": \"user\", \"content\": \"Tell me a joke about LLMs\"}\n",
    "]\n",
    "\n",
    "result = overmind.openai.chat.completions.create(\n",
    "    model='gpt-4o-mini',\n",
    "    messages=messages,\n",
    ")\n",
    "\n",
    "result.summary()"
   ]
  },
  {
   "cell_type": "markdown",
   "id": "efc8b845-53d3-462d-b745-cc326c5f2948",
   "metadata": {},
   "source": [
    "The result will be an InvocationResponse, with .summary() providing an overview. To access more details, including the original response from LLM client see full definition at [Invocations](Invocations.md)"
   ]
  },
  {
   "cell_type": "markdown",
   "id": "04d18d49-4bf2-4c33-9feb-ee0e1f73a0b4",
   "metadata": {},
   "source": [
    "# Experimenting with Policy Templates\n",
    "\n",
    "All client calls can be extended with `input_policies` and `output_policies` aruments. The below is the example setting up PII anonymisation and LLM judge. For all current templates see [Policies.md](Policies.md)\n",
    "\n",
    "This set up allows you to experiment with different templates and parameters before you save them and attach to a new agent."
   ]
  },
  {
   "cell_type": "code",
   "execution_count": 9,
   "id": "7dceb37b-d380-4bdf-897f-71da41d8ff6f",
   "metadata": {},
   "outputs": [
    {
     "data": {
      "text/html": [
       "<pre style=\"white-space:pre;overflow-x:auto;line-height:normal;font-family:Menlo,'DejaVu Sans Mono',consolas,'Courier New',monospace\"><span style=\"color: #008000; text-decoration-color: #008000\">╭────────────────────────────────────────── </span><span style=\"color: #008080; text-decoration-color: #008080; font-weight: bold\">Invocation &amp; Policy Summary</span><span style=\"color: #008000; text-decoration-color: #008000\"> ──────────────────────────────────────────╮</span>\n",
       "<span style=\"color: #008000; text-decoration-color: #008000\">│</span> <span style=\"font-style: italic\">   Invocation Results    </span>                                                                                       <span style=\"color: #008000; text-decoration-color: #008000\">│</span>\n",
       "<span style=\"color: #008000; text-decoration-color: #008000\">│</span> ┏━━━━━━━━━━━┳━━━━━━━━━━━┓                                                                                       <span style=\"color: #008000; text-decoration-color: #008000\">│</span>\n",
       "<span style=\"color: #008000; text-decoration-color: #008000\">│</span> ┃<span style=\"color: #c0c0c0; text-decoration-color: #c0c0c0; font-weight: bold\"> Component </span>┃<span style=\"color: #c0c0c0; text-decoration-color: #c0c0c0; font-weight: bold\">  Outcome  </span>┃                                                                                       <span style=\"color: #008000; text-decoration-color: #008000\">│</span>\n",
       "<span style=\"color: #008000; text-decoration-color: #008000\">│</span> ┡━━━━━━━━━━━╇━━━━━━━━━━━┩                                                                                       <span style=\"color: #008000; text-decoration-color: #008000\">│</span>\n",
       "<span style=\"color: #008000; text-decoration-color: #008000\">│</span> │<span style=\"color: #7f7f7f; text-decoration-color: #7f7f7f\"> Input     </span>│ <span style=\"color: #808000; text-decoration-color: #808000\">⚠️ ALTERED</span> │                                                                                       <span style=\"color: #008000; text-decoration-color: #008000\">│</span>\n",
       "<span style=\"color: #008000; text-decoration-color: #008000\">│</span> │<span style=\"color: #7f7f7f; text-decoration-color: #7f7f7f\"> Output    </span>│ <span style=\"color: #008000; text-decoration-color: #008000\">✅ PASSED</span> │                                                                                       <span style=\"color: #008000; text-decoration-color: #008000\">│</span>\n",
       "<span style=\"color: #008000; text-decoration-color: #008000\">│</span> └───────────┴───────────┘                                                                                       <span style=\"color: #008000; text-decoration-color: #008000\">│</span>\n",
       "<span style=\"color: #008000; text-decoration-color: #008000\">│</span> <span style=\"font-style: italic\">                                                                                                           </span>     <span style=\"color: #008000; text-decoration-color: #008000\">│</span>\n",
       "<span style=\"color: #008000; text-decoration-color: #008000\">│</span> <span style=\"font-style: italic\">                                              Policy Results                                               </span>     <span style=\"color: #008000; text-decoration-color: #008000\">│</span>\n",
       "<span style=\"color: #008000; text-decoration-color: #008000\">│</span> ┏━━━━━━━━━━━━━━━━━━━━━━━━━━━━━━━━┳━━━━━━━━━━━━━━━━━━━━━━━━━━━━━━━━━━━━━━━━━━━━━━━━━━━━━━━━━━━━━━━━━━━━━━━━┓     <span style=\"color: #008000; text-decoration-color: #008000\">│</span>\n",
       "<span style=\"color: #008000; text-decoration-color: #008000\">│</span> ┃<span style=\"color: #c0c0c0; text-decoration-color: #c0c0c0; font-weight: bold\"> Policy                         </span>┃<span style=\"color: #c0c0c0; text-decoration-color: #c0c0c0; font-weight: bold\"> Details                                                                </span>┃     <span style=\"color: #008000; text-decoration-color: #008000\">│</span>\n",
       "<span style=\"color: #008000; text-decoration-color: #008000\">│</span> ┡━━━━━━━━━━━━━━━━━━━━━━━━━━━━━━━━╇━━━━━━━━━━━━━━━━━━━━━━━━━━━━━━━━━━━━━━━━━━━━━━━━━━━━━━━━━━━━━━━━━━━━━━━━┩     <span style=\"color: #008000; text-decoration-color: #008000\">│</span>\n",
       "<span style=\"color: #008000; text-decoration-color: #008000\">│</span> │<span style=\"color: #7f7f7f; text-decoration-color: #7f7f7f\"> PII_detected                   </span>│ <span style=\"color: #2aa198; text-decoration-color: #2aa198; background-color: #002b36\">true</span><span style=\"background-color: #002b36\">                                                                  </span> │     <span style=\"color: #008000; text-decoration-color: #008000\">│</span>\n",
       "<span style=\"color: #008000; text-decoration-color: #008000\">│</span> │<span style=\"color: #7f7f7f; text-decoration-color: #7f7f7f\"> complies_with_criteria         </span>│ <span style=\"color: #2aa198; text-decoration-color: #2aa198; background-color: #002b36\">true</span><span style=\"background-color: #002b36\">                                                                  </span> │     <span style=\"color: #008000; text-decoration-color: #008000\">│</span>\n",
       "<span style=\"color: #008000; text-decoration-color: #008000\">│</span> └────────────────────────────────┴────────────────────────────────────────────────────────────────────────┘     <span style=\"color: #008000; text-decoration-color: #008000\">│</span>\n",
       "<span style=\"color: #008000; text-decoration-color: #008000\">│</span> <span style=\"color: #808000; text-decoration-color: #808000\">╭─ </span><span style=\"color: #808000; text-decoration-color: #808000; font-weight: bold\">Processed Input</span><span style=\"color: #808000; text-decoration-color: #808000\"> ───────────────────────────────────────────────────────────────────────────────────────────╮</span> <span style=\"color: #008000; text-decoration-color: #008000\">│</span>\n",
       "<span style=\"color: #008000; text-decoration-color: #008000\">│</span> <span style=\"color: #808000; text-decoration-color: #808000\">│</span> <span style=\"color: #839496; text-decoration-color: #839496; background-color: #002b36\">[{'role': 'user', 'content': 'Hi my name is Jon, account number [FINANCIAL_ID]. Should I switch my mortgage</span> <span style=\"color: #808000; text-decoration-color: #808000\">│</span> <span style=\"color: #008000; text-decoration-color: #008000\">│</span>\n",
       "<span style=\"color: #008000; text-decoration-color: #008000\">│</span> <span style=\"color: #808000; text-decoration-color: #808000\">│</span> <span style=\"color: #839496; text-decoration-color: #839496; background-color: #002b36\">now or wait for a year to have a lower interest rate?'}]</span><span style=\"background-color: #002b36\">                                                   </span> <span style=\"color: #808000; text-decoration-color: #808000\">│</span> <span style=\"color: #008000; text-decoration-color: #008000\">│</span>\n",
       "<span style=\"color: #008000; text-decoration-color: #008000\">│</span> <span style=\"color: #808000; text-decoration-color: #808000\">╰─────────────────────────────────────────────────────────────────────────────────────────────────────────────╯</span> <span style=\"color: #008000; text-decoration-color: #008000\">│</span>\n",
       "<span style=\"color: #008000; text-decoration-color: #008000\">│</span> <span style=\"color: #008000; text-decoration-color: #008000\">╭─ </span><span style=\"color: #008000; text-decoration-color: #008000; font-weight: bold\">Processed Output</span><span style=\"color: #008000; text-decoration-color: #008000\"> ──────────────────────────────────────────────────────────────────────────────────────────╮</span> <span style=\"color: #008000; text-decoration-color: #008000\">│</span>\n",
       "<span style=\"color: #008000; text-decoration-color: #008000\">│</span> <span style=\"color: #008000; text-decoration-color: #008000\">│</span> <span style=\"color: #839496; text-decoration-color: #839496; background-color: #002b36\">Hi Jon! While I can't provide personalized financial advice, I can help you think through some factors to </span><span style=\"background-color: #002b36\"> </span> <span style=\"color: #008000; text-decoration-color: #008000\">│</span> <span style=\"color: #008000; text-decoration-color: #008000\">│</span>\n",
       "<span style=\"color: #008000; text-decoration-color: #008000\">│</span> <span style=\"color: #008000; text-decoration-color: #008000\">│</span> <span style=\"color: #839496; text-decoration-color: #839496; background-color: #002b36\">consider when deciding whether to switch your mortgage now or wait for a possible lower interest rate. Here</span> <span style=\"color: #008000; text-decoration-color: #008000\">│</span> <span style=\"color: #008000; text-decoration-color: #008000\">│</span>\n",
       "<span style=\"color: #008000; text-decoration-color: #008000\">│</span> <span style=\"color: #008000; text-decoration-color: #008000\">│</span> <span style=\"color: #839496; text-decoration-color: #839496; background-color: #002b36\">are some things to think about:</span><span style=\"background-color: #002b36\">                                                                            </span> <span style=\"color: #008000; text-decoration-color: #008000\">│</span> <span style=\"color: #008000; text-decoration-color: #008000\">│</span>\n",
       "<span style=\"color: #008000; text-decoration-color: #008000\">│</span> <span style=\"color: #008000; text-decoration-color: #008000\">│</span> <span style=\"background-color: #002b36\">                                                                                                           </span> <span style=\"color: #008000; text-decoration-color: #008000\">│</span> <span style=\"color: #008000; text-decoration-color: #008000\">│</span>\n",
       "<span style=\"color: #008000; text-decoration-color: #008000\">│</span> <span style=\"color: #008000; text-decoration-color: #008000\">│</span> <span style=\"color: #839496; text-decoration-color: #839496; background-color: #002b36\">1. **Current Interest Rates**: Check the current mortgage rates compared to your existing rate. If your </span><span style=\"background-color: #002b36\">   </span> <span style=\"color: #008000; text-decoration-color: #008000\">│</span> <span style=\"color: #008000; text-decoration-color: #008000\">│</span>\n",
       "<span style=\"color: #008000; text-decoration-color: #008000\">│</span> <span style=\"color: #008000; text-decoration-color: #008000\">│</span> <span style=\"color: #839496; text-decoration-color: #839496; background-color: #002b36\">current rate is significantly higher than the prevailing rates, it might be beneficial to refinance now.</span><span style=\"background-color: #002b36\">   </span> <span style=\"color: #008000; text-decoration-color: #008000\">│</span> <span style=\"color: #008000; text-decoration-color: #008000\">│</span>\n",
       "<span style=\"color: #008000; text-decoration-color: #008000\">│</span> <span style=\"color: #008000; text-decoration-color: #008000\">│</span> <span style=\"background-color: #002b36\">                                                                                                           </span> <span style=\"color: #008000; text-decoration-color: #008000\">│</span> <span style=\"color: #008000; text-decoration-color: #008000\">│</span>\n",
       "<span style=\"color: #008000; text-decoration-color: #008000\">│</span> <span style=\"color: #008000; text-decoration-color: #008000\">│</span> <span style=\"color: #839496; text-decoration-color: #839496; background-color: #002b36\">2. **Future Rate Predictions**: Consider economic forecasts regarding interest rates. If experts predict </span><span style=\"background-color: #002b36\">  </span> <span style=\"color: #008000; text-decoration-color: #008000\">│</span> <span style=\"color: #008000; text-decoration-color: #008000\">│</span>\n",
       "<span style=\"color: #008000; text-decoration-color: #008000\">│</span> <span style=\"color: #008000; text-decoration-color: #008000\">│</span> <span style=\"color: #839496; text-decoration-color: #839496; background-color: #002b36\">rates will rise, it might be better to switch now. Conversely, if rates are expected to drop, it might be </span><span style=\"background-color: #002b36\"> </span> <span style=\"color: #008000; text-decoration-color: #008000\">│</span> <span style=\"color: #008000; text-decoration-color: #008000\">│</span>\n",
       "<span style=\"color: #008000; text-decoration-color: #008000\">│</span> <span style=\"color: #008000; text-decoration-color: #008000\">│</span> <span style=\"color: #839496; text-decoration-color: #839496; background-color: #002b36\">worth waiting.</span><span style=\"background-color: #002b36\">                                                                                             </span> <span style=\"color: #008000; text-decoration-color: #008000\">│</span> <span style=\"color: #008000; text-decoration-color: #008000\">│</span>\n",
       "<span style=\"color: #008000; text-decoration-color: #008000\">│</span> <span style=\"color: #008000; text-decoration-color: #008000\">│</span> <span style=\"background-color: #002b36\">                                                                                                           </span> <span style=\"color: #008000; text-decoration-color: #008000\">│</span> <span style=\"color: #008000; text-decoration-color: #008000\">│</span>\n",
       "<span style=\"color: #008000; text-decoration-color: #008000\">│</span> <span style=\"color: #008000; text-decoration-color: #008000\">│</span> <span style=\"color: #839496; text-decoration-color: #839496; background-color: #002b36\">3. **Costs of Refinancing**: Look into any fees associated with refinancing, such as closing costs. </span><span style=\"background-color: #002b36\">       </span> <span style=\"color: #008000; text-decoration-color: #008000\">│</span> <span style=\"color: #008000; text-decoration-color: #008000\">│</span>\n",
       "<span style=\"color: #008000; text-decoration-color: #008000\">│</span> <span style=\"color: #008000; text-decoration-color: #008000\">│</span> <span style=\"color: #839496; text-decoration-color: #839496; background-color: #002b36\">Calculate how long it would take to recoup these costs through the savings from a lower rate.</span><span style=\"background-color: #002b36\">              </span> <span style=\"color: #008000; text-decoration-color: #008000\">│</span> <span style=\"color: #008000; text-decoration-color: #008000\">│</span>\n",
       "<span style=\"color: #008000; text-decoration-color: #008000\">│</span> <span style=\"color: #008000; text-decoration-color: #008000\">│</span> <span style=\"background-color: #002b36\">                                                                                                           </span> <span style=\"color: #008000; text-decoration-color: #008000\">│</span> <span style=\"color: #008000; text-decoration-color: #008000\">│</span>\n",
       "<span style=\"color: #008000; text-decoration-color: #008000\">│</span> <span style=\"color: #008000; text-decoration-color: #008000\">│</span> <span style=\"color: #839496; text-decoration-color: #839496; background-color: #002b36\">4. **Your Financial Situation**: Evaluate your overall financial health, including your credit score, </span><span style=\"background-color: #002b36\">     </span> <span style=\"color: #008000; text-decoration-color: #008000\">│</span> <span style=\"color: #008000; text-decoration-color: #008000\">│</span>\n",
       "<span style=\"color: #008000; text-decoration-color: #008000\">│</span> <span style=\"color: #008000; text-decoration-color: #008000\">│</span> <span style=\"color: #839496; text-decoration-color: #839496; background-color: #002b36\">income stability, and ability to cover any upfront costs associated with refinancing.</span><span style=\"background-color: #002b36\">                      </span> <span style=\"color: #008000; text-decoration-color: #008000\">│</span> <span style=\"color: #008000; text-decoration-color: #008000\">│</span>\n",
       "<span style=\"color: #008000; text-decoration-color: #008000\">│</span> <span style=\"color: #008000; text-decoration-color: #008000\">│</span> <span style=\"background-color: #002b36\">                                                                                                           </span> <span style=\"color: #008000; text-decoration-color: #008000\">│</span> <span style=\"color: #008000; text-decoration-color: #008000\">│</span>\n",
       "<span style=\"color: #008000; text-decoration-color: #008000\">│</span> <span style=\"color: #008000; text-decoration-color: #008000\">│</span> <span style=\"color: #839496; text-decoration-color: #839496; background-color: #002b36\">5. **Loan Term**: Consider how long you plan to stay in your home. If you plan to move soon, refinancing </span><span style=\"background-color: #002b36\">  </span> <span style=\"color: #008000; text-decoration-color: #008000\">│</span> <span style=\"color: #008000; text-decoration-color: #008000\">│</span>\n",
       "<span style=\"color: #008000; text-decoration-color: #008000\">│</span> <span style=\"color: #008000; text-decoration-color: #008000\">│</span> <span style=\"color: #839496; text-decoration-color: #839496; background-color: #002b36\">might not make sense.</span><span style=\"background-color: #002b36\">                                                                                      </span> <span style=\"color: #008000; text-decoration-color: #008000\">│</span> <span style=\"color: #008000; text-decoration-color: #008000\">│</span>\n",
       "<span style=\"color: #008000; text-decoration-color: #008000\">│</span> <span style=\"color: #008000; text-decoration-color: #008000\">│</span> <span style=\"background-color: #002b36\">                                                                                                           </span> <span style=\"color: #008000; text-decoration-color: #008000\">│</span> <span style=\"color: #008000; text-decoration-color: #008000\">│</span>\n",
       "<span style=\"color: #008000; text-decoration-color: #008000\">│</span> <span style=\"color: #008000; text-decoration-color: #008000\">│</span> <span style=\"color: #839496; text-decoration-color: #839496; background-color: #002b36\">6. **Consult with Professionals**: It could be helpful to talk to a mortgage advisor or financial planner </span><span style=\"background-color: #002b36\"> </span> <span style=\"color: #008000; text-decoration-color: #008000\">│</span> <span style=\"color: #008000; text-decoration-color: #008000\">│</span>\n",
       "<span style=\"color: #008000; text-decoration-color: #008000\">│</span> <span style=\"color: #008000; text-decoration-color: #008000\">│</span> <span style=\"color: #839496; text-decoration-color: #839496; background-color: #002b36\">who can provide tailored advice based on your specific circumstances.</span><span style=\"background-color: #002b36\">                                      </span> <span style=\"color: #008000; text-decoration-color: #008000\">│</span> <span style=\"color: #008000; text-decoration-color: #008000\">│</span>\n",
       "<span style=\"color: #008000; text-decoration-color: #008000\">│</span> <span style=\"color: #008000; text-decoration-color: #008000\">│</span> <span style=\"background-color: #002b36\">                                                                                                           </span> <span style=\"color: #008000; text-decoration-color: #008000\">│</span> <span style=\"color: #008000; text-decoration-color: #008000\">│</span>\n",
       "<span style=\"color: #008000; text-decoration-color: #008000\">│</span> <span style=\"color: #008000; text-decoration-color: #008000\">│</span> <span style=\"color: #839496; text-decoration-color: #839496; background-color: #002b36\">Ultimately, the decision will depend on your financial goals and the specifics of your situation.</span><span style=\"background-color: #002b36\">          </span> <span style=\"color: #008000; text-decoration-color: #008000\">│</span> <span style=\"color: #008000; text-decoration-color: #008000\">│</span>\n",
       "<span style=\"color: #008000; text-decoration-color: #008000\">│</span> <span style=\"color: #008000; text-decoration-color: #008000\">╰─────────────────────────────────────────────────────────────────────────────────────────────────────────────╯</span> <span style=\"color: #008000; text-decoration-color: #008000\">│</span>\n",
       "<span style=\"color: #008000; text-decoration-color: #008000\">╰─────────────────────────────────────────────────────────────────────────────────────────────────────────────────╯</span>\n",
       "</pre>\n"
      ],
      "text/plain": [
       "\u001b[32m╭─\u001b[0m\u001b[32m─────────────────────────────────────────\u001b[0m\u001b[32m \u001b[0m\u001b[1;36mInvocation & Policy Summary\u001b[0m\u001b[32m \u001b[0m\u001b[32m─────────────────────────────────────────\u001b[0m\u001b[32m─╮\u001b[0m\n",
       "\u001b[32m│\u001b[0m \u001b[3m   Invocation Results    \u001b[0m                                                                                       \u001b[32m│\u001b[0m\n",
       "\u001b[32m│\u001b[0m ┏━━━━━━━━━━━┳━━━━━━━━━━━┓                                                                                       \u001b[32m│\u001b[0m\n",
       "\u001b[32m│\u001b[0m ┃\u001b[1;37m \u001b[0m\u001b[1;37mComponent\u001b[0m\u001b[1;37m \u001b[0m┃\u001b[1;37m \u001b[0m\u001b[1;37m Outcome \u001b[0m\u001b[1;37m \u001b[0m┃                                                                                       \u001b[32m│\u001b[0m\n",
       "\u001b[32m│\u001b[0m ┡━━━━━━━━━━━╇━━━━━━━━━━━┩                                                                                       \u001b[32m│\u001b[0m\n",
       "\u001b[32m│\u001b[0m │\u001b[2m \u001b[0m\u001b[2mInput    \u001b[0m\u001b[2m \u001b[0m│ \u001b[33m⚠️ ALTERED\u001b[0m │                                                                                       \u001b[32m│\u001b[0m\n",
       "\u001b[32m│\u001b[0m │\u001b[2m \u001b[0m\u001b[2mOutput   \u001b[0m\u001b[2m \u001b[0m│ \u001b[32m✅ PASSED\u001b[0m │                                                                                       \u001b[32m│\u001b[0m\n",
       "\u001b[32m│\u001b[0m └───────────┴───────────┘                                                                                       \u001b[32m│\u001b[0m\n",
       "\u001b[32m│\u001b[0m \u001b[3m                                                                                                           \u001b[0m     \u001b[32m│\u001b[0m\n",
       "\u001b[32m│\u001b[0m \u001b[3m                                              Policy Results                                               \u001b[0m     \u001b[32m│\u001b[0m\n",
       "\u001b[32m│\u001b[0m ┏━━━━━━━━━━━━━━━━━━━━━━━━━━━━━━━━┳━━━━━━━━━━━━━━━━━━━━━━━━━━━━━━━━━━━━━━━━━━━━━━━━━━━━━━━━━━━━━━━━━━━━━━━━┓     \u001b[32m│\u001b[0m\n",
       "\u001b[32m│\u001b[0m ┃\u001b[1;37m \u001b[0m\u001b[1;37mPolicy                        \u001b[0m\u001b[1;37m \u001b[0m┃\u001b[1;37m \u001b[0m\u001b[1;37mDetails                                                               \u001b[0m\u001b[1;37m \u001b[0m┃     \u001b[32m│\u001b[0m\n",
       "\u001b[32m│\u001b[0m ┡━━━━━━━━━━━━━━━━━━━━━━━━━━━━━━━━╇━━━━━━━━━━━━━━━━━━━━━━━━━━━━━━━━━━━━━━━━━━━━━━━━━━━━━━━━━━━━━━━━━━━━━━━━┩     \u001b[32m│\u001b[0m\n",
       "\u001b[32m│\u001b[0m │\u001b[2m \u001b[0m\u001b[2mPII_detected                  \u001b[0m\u001b[2m \u001b[0m│ \u001b[38;2;42;161;152;48;2;0;43;54mtrue\u001b[0m\u001b[48;2;0;43;54m                                                                  \u001b[0m │     \u001b[32m│\u001b[0m\n",
       "\u001b[32m│\u001b[0m │\u001b[2m \u001b[0m\u001b[2mcomplies_with_criteria        \u001b[0m\u001b[2m \u001b[0m│ \u001b[38;2;42;161;152;48;2;0;43;54mtrue\u001b[0m\u001b[48;2;0;43;54m                                                                  \u001b[0m │     \u001b[32m│\u001b[0m\n",
       "\u001b[32m│\u001b[0m └────────────────────────────────┴────────────────────────────────────────────────────────────────────────┘     \u001b[32m│\u001b[0m\n",
       "\u001b[32m│\u001b[0m \u001b[33m╭─\u001b[0m\u001b[33m \u001b[0m\u001b[1;33mProcessed Input\u001b[0m\u001b[33m \u001b[0m\u001b[33m──────────────────────────────────────────────────────────────────────────────────────────\u001b[0m\u001b[33m─╮\u001b[0m \u001b[32m│\u001b[0m\n",
       "\u001b[32m│\u001b[0m \u001b[33m│\u001b[0m \u001b[38;2;131;148;150;48;2;0;43;54m[{'role': 'user', 'content': 'Hi my name is Jon, account number [FINANCIAL_ID]. Should I switch my mortgage\u001b[0m \u001b[33m│\u001b[0m \u001b[32m│\u001b[0m\n",
       "\u001b[32m│\u001b[0m \u001b[33m│\u001b[0m \u001b[38;2;131;148;150;48;2;0;43;54mnow or wait for a year to have a lower interest rate?'}]\u001b[0m\u001b[48;2;0;43;54m                                                   \u001b[0m \u001b[33m│\u001b[0m \u001b[32m│\u001b[0m\n",
       "\u001b[32m│\u001b[0m \u001b[33m╰─────────────────────────────────────────────────────────────────────────────────────────────────────────────╯\u001b[0m \u001b[32m│\u001b[0m\n",
       "\u001b[32m│\u001b[0m \u001b[32m╭─\u001b[0m\u001b[32m \u001b[0m\u001b[1;32mProcessed Output\u001b[0m\u001b[32m \u001b[0m\u001b[32m─────────────────────────────────────────────────────────────────────────────────────────\u001b[0m\u001b[32m─╮\u001b[0m \u001b[32m│\u001b[0m\n",
       "\u001b[32m│\u001b[0m \u001b[32m│\u001b[0m \u001b[38;2;131;148;150;48;2;0;43;54mHi Jon! While I can't provide personalized financial advice, I can help you think through some factors to \u001b[0m\u001b[48;2;0;43;54m \u001b[0m \u001b[32m│\u001b[0m \u001b[32m│\u001b[0m\n",
       "\u001b[32m│\u001b[0m \u001b[32m│\u001b[0m \u001b[38;2;131;148;150;48;2;0;43;54mconsider when deciding whether to switch your mortgage now or wait for a possible lower interest rate. Here\u001b[0m \u001b[32m│\u001b[0m \u001b[32m│\u001b[0m\n",
       "\u001b[32m│\u001b[0m \u001b[32m│\u001b[0m \u001b[38;2;131;148;150;48;2;0;43;54mare some things to think about:\u001b[0m\u001b[48;2;0;43;54m                                                                            \u001b[0m \u001b[32m│\u001b[0m \u001b[32m│\u001b[0m\n",
       "\u001b[32m│\u001b[0m \u001b[32m│\u001b[0m \u001b[48;2;0;43;54m                                                                                                           \u001b[0m \u001b[32m│\u001b[0m \u001b[32m│\u001b[0m\n",
       "\u001b[32m│\u001b[0m \u001b[32m│\u001b[0m \u001b[38;2;131;148;150;48;2;0;43;54m1. **Current Interest Rates**: Check the current mortgage rates compared to your existing rate. If your \u001b[0m\u001b[48;2;0;43;54m   \u001b[0m \u001b[32m│\u001b[0m \u001b[32m│\u001b[0m\n",
       "\u001b[32m│\u001b[0m \u001b[32m│\u001b[0m \u001b[38;2;131;148;150;48;2;0;43;54mcurrent rate is significantly higher than the prevailing rates, it might be beneficial to refinance now.\u001b[0m\u001b[48;2;0;43;54m   \u001b[0m \u001b[32m│\u001b[0m \u001b[32m│\u001b[0m\n",
       "\u001b[32m│\u001b[0m \u001b[32m│\u001b[0m \u001b[48;2;0;43;54m                                                                                                           \u001b[0m \u001b[32m│\u001b[0m \u001b[32m│\u001b[0m\n",
       "\u001b[32m│\u001b[0m \u001b[32m│\u001b[0m \u001b[38;2;131;148;150;48;2;0;43;54m2. **Future Rate Predictions**: Consider economic forecasts regarding interest rates. If experts predict \u001b[0m\u001b[48;2;0;43;54m  \u001b[0m \u001b[32m│\u001b[0m \u001b[32m│\u001b[0m\n",
       "\u001b[32m│\u001b[0m \u001b[32m│\u001b[0m \u001b[38;2;131;148;150;48;2;0;43;54mrates will rise, it might be better to switch now. Conversely, if rates are expected to drop, it might be \u001b[0m\u001b[48;2;0;43;54m \u001b[0m \u001b[32m│\u001b[0m \u001b[32m│\u001b[0m\n",
       "\u001b[32m│\u001b[0m \u001b[32m│\u001b[0m \u001b[38;2;131;148;150;48;2;0;43;54mworth waiting.\u001b[0m\u001b[48;2;0;43;54m                                                                                             \u001b[0m \u001b[32m│\u001b[0m \u001b[32m│\u001b[0m\n",
       "\u001b[32m│\u001b[0m \u001b[32m│\u001b[0m \u001b[48;2;0;43;54m                                                                                                           \u001b[0m \u001b[32m│\u001b[0m \u001b[32m│\u001b[0m\n",
       "\u001b[32m│\u001b[0m \u001b[32m│\u001b[0m \u001b[38;2;131;148;150;48;2;0;43;54m3. **Costs of Refinancing**: Look into any fees associated with refinancing, such as closing costs. \u001b[0m\u001b[48;2;0;43;54m       \u001b[0m \u001b[32m│\u001b[0m \u001b[32m│\u001b[0m\n",
       "\u001b[32m│\u001b[0m \u001b[32m│\u001b[0m \u001b[38;2;131;148;150;48;2;0;43;54mCalculate how long it would take to recoup these costs through the savings from a lower rate.\u001b[0m\u001b[48;2;0;43;54m              \u001b[0m \u001b[32m│\u001b[0m \u001b[32m│\u001b[0m\n",
       "\u001b[32m│\u001b[0m \u001b[32m│\u001b[0m \u001b[48;2;0;43;54m                                                                                                           \u001b[0m \u001b[32m│\u001b[0m \u001b[32m│\u001b[0m\n",
       "\u001b[32m│\u001b[0m \u001b[32m│\u001b[0m \u001b[38;2;131;148;150;48;2;0;43;54m4. **Your Financial Situation**: Evaluate your overall financial health, including your credit score, \u001b[0m\u001b[48;2;0;43;54m     \u001b[0m \u001b[32m│\u001b[0m \u001b[32m│\u001b[0m\n",
       "\u001b[32m│\u001b[0m \u001b[32m│\u001b[0m \u001b[38;2;131;148;150;48;2;0;43;54mincome stability, and ability to cover any upfront costs associated with refinancing.\u001b[0m\u001b[48;2;0;43;54m                      \u001b[0m \u001b[32m│\u001b[0m \u001b[32m│\u001b[0m\n",
       "\u001b[32m│\u001b[0m \u001b[32m│\u001b[0m \u001b[48;2;0;43;54m                                                                                                           \u001b[0m \u001b[32m│\u001b[0m \u001b[32m│\u001b[0m\n",
       "\u001b[32m│\u001b[0m \u001b[32m│\u001b[0m \u001b[38;2;131;148;150;48;2;0;43;54m5. **Loan Term**: Consider how long you plan to stay in your home. If you plan to move soon, refinancing \u001b[0m\u001b[48;2;0;43;54m  \u001b[0m \u001b[32m│\u001b[0m \u001b[32m│\u001b[0m\n",
       "\u001b[32m│\u001b[0m \u001b[32m│\u001b[0m \u001b[38;2;131;148;150;48;2;0;43;54mmight not make sense.\u001b[0m\u001b[48;2;0;43;54m                                                                                      \u001b[0m \u001b[32m│\u001b[0m \u001b[32m│\u001b[0m\n",
       "\u001b[32m│\u001b[0m \u001b[32m│\u001b[0m \u001b[48;2;0;43;54m                                                                                                           \u001b[0m \u001b[32m│\u001b[0m \u001b[32m│\u001b[0m\n",
       "\u001b[32m│\u001b[0m \u001b[32m│\u001b[0m \u001b[38;2;131;148;150;48;2;0;43;54m6. **Consult with Professionals**: It could be helpful to talk to a mortgage advisor or financial planner \u001b[0m\u001b[48;2;0;43;54m \u001b[0m \u001b[32m│\u001b[0m \u001b[32m│\u001b[0m\n",
       "\u001b[32m│\u001b[0m \u001b[32m│\u001b[0m \u001b[38;2;131;148;150;48;2;0;43;54mwho can provide tailored advice based on your specific circumstances.\u001b[0m\u001b[48;2;0;43;54m                                      \u001b[0m \u001b[32m│\u001b[0m \u001b[32m│\u001b[0m\n",
       "\u001b[32m│\u001b[0m \u001b[32m│\u001b[0m \u001b[48;2;0;43;54m                                                                                                           \u001b[0m \u001b[32m│\u001b[0m \u001b[32m│\u001b[0m\n",
       "\u001b[32m│\u001b[0m \u001b[32m│\u001b[0m \u001b[38;2;131;148;150;48;2;0;43;54mUltimately, the decision will depend on your financial goals and the specifics of your situation.\u001b[0m\u001b[48;2;0;43;54m          \u001b[0m \u001b[32m│\u001b[0m \u001b[32m│\u001b[0m\n",
       "\u001b[32m│\u001b[0m \u001b[32m╰─────────────────────────────────────────────────────────────────────────────────────────────────────────────╯\u001b[0m \u001b[32m│\u001b[0m\n",
       "\u001b[32m╰─────────────────────────────────────────────────────────────────────────────────────────────────────────────────╯\u001b[0m\n"
      ]
     },
     "metadata": {},
     "output_type": "display_data"
    }
   ],
   "source": [
    "input_pii_policy = {\n",
    "    'policy_template': 'anonymize_pii',\n",
    "    'parameters': {\n",
    "        'pii_types': ['DEMOGRAPHIC_DATA', 'FINANCIAL_ID']\n",
    "    }\n",
    "}\n",
    "\n",
    "output_llm_judge_criteria = {\n",
    "    'policy_template': 'reject_llm_judge_with_criteria',\n",
    "    'parameters': {\n",
    "        'criteria': [\n",
    "            \"Must not be a financial advice\",\n",
    "            \"Must answer the question fully\",\n",
    "        ]\n",
    "    }\n",
    "}\n",
    "\n",
    "messages = [\n",
    "    {\"role\": \"user\", \"content\": \"Hi my name is Jon, account number 20194812. Should I switch my mortgage now or wait for a year to have a lower interest rate?\"}\n",
    "]\n",
    "\n",
    "result = overmind.openai.chat.completions.create(\n",
    "    model='gpt-4o-mini',\n",
    "    messages=messages,\n",
    "    input_policies=[input_pii_policy],\n",
    "    output_policies=[output_llm_judge_criteria]\n",
    ")\n",
    "\n",
    "result.summary()"
   ]
  },
  {
   "cell_type": "markdown",
   "id": "f29ccba0-26eb-4fe8-9285-741ca462430f",
   "metadata": {},
   "source": [
    "# Setting up Policies and Agents\n",
    "\n",
    "After you've set up your policy you can save the it and assign to one or more agents"
   ]
  },
  {
   "cell_type": "code",
   "execution_count": 36,
   "id": "39119a7f-2da5-45ee-b549-97f558cf7957",
   "metadata": {},
   "outputs": [
    {
     "data": {
      "text/plain": [
       "{'message': 'Policy created successfully', 'policy_id': 'redact_our_pii'}"
      ]
     },
     "execution_count": 36,
     "metadata": {},
     "output_type": "execute_result"
    }
   ],
   "source": [
    "overmind.policies.create(\n",
    "    policy_id='redact_our_pii',\n",
    "    policy_template='anonymize_pii',\n",
    "    policy_description='Remove PII relevant to our use case, keep the rest',\n",
    "    parameters={\n",
    "        'pii_types': ['DEMOGRAPHIC_DATA', 'GOVERNMENT_ID', \"PERSON_NAME\"]\n",
    "    },\n",
    ")"
   ]
  },
  {
   "cell_type": "markdown",
   "id": "86437489-7e10-4689-a0fe-53c7ce70e26c",
   "metadata": {},
   "source": [
    "You can then view the policy you've just made by calling the method below or in [the UI](https://overmind.evallab.dev/policies)"
   ]
  },
  {
   "cell_type": "code",
   "execution_count": 37,
   "id": "5352d33e-52fe-4363-8541-597352e8c41f",
   "metadata": {},
   "outputs": [
    {
     "data": {
      "text/html": [
       "<pre style=\"white-space:pre;overflow-x:auto;line-height:normal;font-family:Menlo,'DejaVu Sans Mono',consolas,'Courier New',monospace\"><span style=\"color: #800080; text-decoration-color: #800080; font-weight: bold\">PolicyResponse</span><span style=\"font-weight: bold\">(</span>\n",
       "    <span style=\"color: #808000; text-decoration-color: #808000\">policy_id</span>=<span style=\"color: #008000; text-decoration-color: #008000\">'anonymize_pii'</span>,\n",
       "    <span style=\"color: #808000; text-decoration-color: #808000\">policy_description</span>=<span style=\"color: #008000; text-decoration-color: #008000\">'Anonymizes PII such as names, email addresses, phone numbers, addresses, SSNs, credit card </span>\n",
       "<span style=\"color: #008000; text-decoration-color: #008000\">numbers, IP addresses, dates of birth, and other IDs.'</span>,\n",
       "    <span style=\"color: #808000; text-decoration-color: #808000\">parameters</span>=<span style=\"font-weight: bold\">{}</span>,\n",
       "    <span style=\"color: #808000; text-decoration-color: #808000\">policy_template</span>=<span style=\"color: #008000; text-decoration-color: #008000\">'anonymize_pii'</span>,\n",
       "    <span style=\"color: #808000; text-decoration-color: #808000\">stats</span>=<span style=\"font-weight: bold\">{}</span>,\n",
       "    <span style=\"color: #808000; text-decoration-color: #808000\">is_input_policy</span>=<span style=\"color: #00ff00; text-decoration-color: #00ff00; font-style: italic\">True</span>,\n",
       "    <span style=\"color: #808000; text-decoration-color: #808000\">is_output_policy</span>=<span style=\"color: #00ff00; text-decoration-color: #00ff00; font-style: italic\">True</span>,\n",
       "    <span style=\"color: #808000; text-decoration-color: #808000\">created_at</span>=<span style=\"color: #800080; text-decoration-color: #800080; font-weight: bold\">datetime</span><span style=\"color: #800080; text-decoration-color: #800080; font-weight: bold\">.datetime</span><span style=\"font-weight: bold\">(</span><span style=\"color: #008080; text-decoration-color: #008080; font-weight: bold\">2025</span>, <span style=\"color: #008080; text-decoration-color: #008080; font-weight: bold\">6</span>, <span style=\"color: #008080; text-decoration-color: #008080; font-weight: bold\">21</span>, <span style=\"color: #008080; text-decoration-color: #008080; font-weight: bold\">0</span>, <span style=\"color: #008080; text-decoration-color: #008080; font-weight: bold\">0</span>, <span style=\"color: #808000; text-decoration-color: #808000\">tzinfo</span>=<span style=\"color: #800080; text-decoration-color: #800080; font-weight: bold\">TzInfo</span><span style=\"font-weight: bold\">(</span>UTC<span style=\"font-weight: bold\">))</span>,\n",
       "    <span style=\"color: #808000; text-decoration-color: #808000\">updated_at</span>=<span style=\"color: #800080; text-decoration-color: #800080; font-weight: bold\">datetime</span><span style=\"color: #800080; text-decoration-color: #800080; font-weight: bold\">.datetime</span><span style=\"font-weight: bold\">(</span><span style=\"color: #008080; text-decoration-color: #008080; font-weight: bold\">2025</span>, <span style=\"color: #008080; text-decoration-color: #008080; font-weight: bold\">6</span>, <span style=\"color: #008080; text-decoration-color: #008080; font-weight: bold\">21</span>, <span style=\"color: #008080; text-decoration-color: #008080; font-weight: bold\">0</span>, <span style=\"color: #008080; text-decoration-color: #008080; font-weight: bold\">0</span>, <span style=\"color: #808000; text-decoration-color: #808000\">tzinfo</span>=<span style=\"color: #800080; text-decoration-color: #800080; font-weight: bold\">TzInfo</span><span style=\"font-weight: bold\">(</span>UTC<span style=\"font-weight: bold\">))</span>,\n",
       "    <span style=\"color: #808000; text-decoration-color: #808000\">is_built_in</span>=<span style=\"color: #00ff00; text-decoration-color: #00ff00; font-style: italic\">True</span>\n",
       "<span style=\"font-weight: bold\">)</span>\n",
       "</pre>\n"
      ],
      "text/plain": [
       "\u001b[1;35mPolicyResponse\u001b[0m\u001b[1m(\u001b[0m\n",
       "    \u001b[33mpolicy_id\u001b[0m=\u001b[32m'anonymize_pii'\u001b[0m,\n",
       "    \u001b[33mpolicy_description\u001b[0m=\u001b[32m'Anonymizes PII such as names, email addresses, phone numbers, addresses, SSNs, credit card \u001b[0m\n",
       "\u001b[32mnumbers, IP addresses, dates of birth, and other IDs.'\u001b[0m,\n",
       "    \u001b[33mparameters\u001b[0m=\u001b[1m{\u001b[0m\u001b[1m}\u001b[0m,\n",
       "    \u001b[33mpolicy_template\u001b[0m=\u001b[32m'anonymize_pii'\u001b[0m,\n",
       "    \u001b[33mstats\u001b[0m=\u001b[1m{\u001b[0m\u001b[1m}\u001b[0m,\n",
       "    \u001b[33mis_input_policy\u001b[0m=\u001b[3;92mTrue\u001b[0m,\n",
       "    \u001b[33mis_output_policy\u001b[0m=\u001b[3;92mTrue\u001b[0m,\n",
       "    \u001b[33mcreated_at\u001b[0m=\u001b[1;35mdatetime\u001b[0m\u001b[1;35m.datetime\u001b[0m\u001b[1m(\u001b[0m\u001b[1;36m2025\u001b[0m, \u001b[1;36m6\u001b[0m, \u001b[1;36m21\u001b[0m, \u001b[1;36m0\u001b[0m, \u001b[1;36m0\u001b[0m, \u001b[33mtzinfo\u001b[0m=\u001b[1;35mTzInfo\u001b[0m\u001b[1m(\u001b[0mUTC\u001b[1m)\u001b[0m\u001b[1m)\u001b[0m,\n",
       "    \u001b[33mupdated_at\u001b[0m=\u001b[1;35mdatetime\u001b[0m\u001b[1;35m.datetime\u001b[0m\u001b[1m(\u001b[0m\u001b[1;36m2025\u001b[0m, \u001b[1;36m6\u001b[0m, \u001b[1;36m21\u001b[0m, \u001b[1;36m0\u001b[0m, \u001b[1;36m0\u001b[0m, \u001b[33mtzinfo\u001b[0m=\u001b[1;35mTzInfo\u001b[0m\u001b[1m(\u001b[0mUTC\u001b[1m)\u001b[0m\u001b[1m)\u001b[0m,\n",
       "    \u001b[33mis_built_in\u001b[0m=\u001b[3;92mTrue\u001b[0m\n",
       "\u001b[1m)\u001b[0m\n"
      ]
     },
     "metadata": {},
     "output_type": "display_data"
    },
    {
     "data": {
      "text/html": [
       "<pre style=\"white-space:pre;overflow-x:auto;line-height:normal;font-family:Menlo,'DejaVu Sans Mono',consolas,'Courier New',monospace\"><span style=\"color: #800080; text-decoration-color: #800080; font-weight: bold\">PolicyResponse</span><span style=\"font-weight: bold\">(</span>\n",
       "    <span style=\"color: #808000; text-decoration-color: #808000\">policy_id</span>=<span style=\"color: #008000; text-decoration-color: #008000\">'reject_pii'</span>,\n",
       "    <span style=\"color: #808000; text-decoration-color: #808000\">policy_description</span>=<span style=\"color: #008000; text-decoration-color: #008000\">'Rejects PII such as names, email addresses, phone numbers, addresses, SSNs, credit card </span>\n",
       "<span style=\"color: #008000; text-decoration-color: #008000\">numbers, IP addresses, dates of birth, and other IDs.'</span>,\n",
       "    <span style=\"color: #808000; text-decoration-color: #808000\">parameters</span>=<span style=\"font-weight: bold\">{}</span>,\n",
       "    <span style=\"color: #808000; text-decoration-color: #808000\">policy_template</span>=<span style=\"color: #008000; text-decoration-color: #008000\">'reject_pii'</span>,\n",
       "    <span style=\"color: #808000; text-decoration-color: #808000\">stats</span>=<span style=\"font-weight: bold\">{}</span>,\n",
       "    <span style=\"color: #808000; text-decoration-color: #808000\">is_input_policy</span>=<span style=\"color: #00ff00; text-decoration-color: #00ff00; font-style: italic\">True</span>,\n",
       "    <span style=\"color: #808000; text-decoration-color: #808000\">is_output_policy</span>=<span style=\"color: #00ff00; text-decoration-color: #00ff00; font-style: italic\">True</span>,\n",
       "    <span style=\"color: #808000; text-decoration-color: #808000\">created_at</span>=<span style=\"color: #800080; text-decoration-color: #800080; font-weight: bold\">datetime</span><span style=\"color: #800080; text-decoration-color: #800080; font-weight: bold\">.datetime</span><span style=\"font-weight: bold\">(</span><span style=\"color: #008080; text-decoration-color: #008080; font-weight: bold\">2025</span>, <span style=\"color: #008080; text-decoration-color: #008080; font-weight: bold\">6</span>, <span style=\"color: #008080; text-decoration-color: #008080; font-weight: bold\">21</span>, <span style=\"color: #008080; text-decoration-color: #008080; font-weight: bold\">0</span>, <span style=\"color: #008080; text-decoration-color: #008080; font-weight: bold\">0</span>, <span style=\"color: #808000; text-decoration-color: #808000\">tzinfo</span>=<span style=\"color: #800080; text-decoration-color: #800080; font-weight: bold\">TzInfo</span><span style=\"font-weight: bold\">(</span>UTC<span style=\"font-weight: bold\">))</span>,\n",
       "    <span style=\"color: #808000; text-decoration-color: #808000\">updated_at</span>=<span style=\"color: #800080; text-decoration-color: #800080; font-weight: bold\">datetime</span><span style=\"color: #800080; text-decoration-color: #800080; font-weight: bold\">.datetime</span><span style=\"font-weight: bold\">(</span><span style=\"color: #008080; text-decoration-color: #008080; font-weight: bold\">2025</span>, <span style=\"color: #008080; text-decoration-color: #008080; font-weight: bold\">6</span>, <span style=\"color: #008080; text-decoration-color: #008080; font-weight: bold\">21</span>, <span style=\"color: #008080; text-decoration-color: #008080; font-weight: bold\">0</span>, <span style=\"color: #008080; text-decoration-color: #008080; font-weight: bold\">0</span>, <span style=\"color: #808000; text-decoration-color: #808000\">tzinfo</span>=<span style=\"color: #800080; text-decoration-color: #800080; font-weight: bold\">TzInfo</span><span style=\"font-weight: bold\">(</span>UTC<span style=\"font-weight: bold\">))</span>,\n",
       "    <span style=\"color: #808000; text-decoration-color: #808000\">is_built_in</span>=<span style=\"color: #00ff00; text-decoration-color: #00ff00; font-style: italic\">True</span>\n",
       "<span style=\"font-weight: bold\">)</span>\n",
       "</pre>\n"
      ],
      "text/plain": [
       "\u001b[1;35mPolicyResponse\u001b[0m\u001b[1m(\u001b[0m\n",
       "    \u001b[33mpolicy_id\u001b[0m=\u001b[32m'reject_pii'\u001b[0m,\n",
       "    \u001b[33mpolicy_description\u001b[0m=\u001b[32m'Rejects PII such as names, email addresses, phone numbers, addresses, SSNs, credit card \u001b[0m\n",
       "\u001b[32mnumbers, IP addresses, dates of birth, and other IDs.'\u001b[0m,\n",
       "    \u001b[33mparameters\u001b[0m=\u001b[1m{\u001b[0m\u001b[1m}\u001b[0m,\n",
       "    \u001b[33mpolicy_template\u001b[0m=\u001b[32m'reject_pii'\u001b[0m,\n",
       "    \u001b[33mstats\u001b[0m=\u001b[1m{\u001b[0m\u001b[1m}\u001b[0m,\n",
       "    \u001b[33mis_input_policy\u001b[0m=\u001b[3;92mTrue\u001b[0m,\n",
       "    \u001b[33mis_output_policy\u001b[0m=\u001b[3;92mTrue\u001b[0m,\n",
       "    \u001b[33mcreated_at\u001b[0m=\u001b[1;35mdatetime\u001b[0m\u001b[1;35m.datetime\u001b[0m\u001b[1m(\u001b[0m\u001b[1;36m2025\u001b[0m, \u001b[1;36m6\u001b[0m, \u001b[1;36m21\u001b[0m, \u001b[1;36m0\u001b[0m, \u001b[1;36m0\u001b[0m, \u001b[33mtzinfo\u001b[0m=\u001b[1;35mTzInfo\u001b[0m\u001b[1m(\u001b[0mUTC\u001b[1m)\u001b[0m\u001b[1m)\u001b[0m,\n",
       "    \u001b[33mupdated_at\u001b[0m=\u001b[1;35mdatetime\u001b[0m\u001b[1;35m.datetime\u001b[0m\u001b[1m(\u001b[0m\u001b[1;36m2025\u001b[0m, \u001b[1;36m6\u001b[0m, \u001b[1;36m21\u001b[0m, \u001b[1;36m0\u001b[0m, \u001b[1;36m0\u001b[0m, \u001b[33mtzinfo\u001b[0m=\u001b[1;35mTzInfo\u001b[0m\u001b[1m(\u001b[0mUTC\u001b[1m)\u001b[0m\u001b[1m)\u001b[0m,\n",
       "    \u001b[33mis_built_in\u001b[0m=\u001b[3;92mTrue\u001b[0m\n",
       "\u001b[1m)\u001b[0m\n"
      ]
     },
     "metadata": {},
     "output_type": "display_data"
    },
    {
     "data": {
      "text/html": [
       "<pre style=\"white-space:pre;overflow-x:auto;line-height:normal;font-family:Menlo,'DejaVu Sans Mono',consolas,'Courier New',monospace\"><span style=\"color: #800080; text-decoration-color: #800080; font-weight: bold\">PolicyResponse</span><span style=\"font-weight: bold\">(</span>\n",
       "    <span style=\"color: #808000; text-decoration-color: #808000\">policy_id</span>=<span style=\"color: #008000; text-decoration-color: #008000\">'reject_prompt_injection'</span>,\n",
       "    <span style=\"color: #808000; text-decoration-color: #808000\">policy_description</span>=<span style=\"color: #008000; text-decoration-color: #008000\">'Rejects prompt injection attempts.'</span>,\n",
       "    <span style=\"color: #808000; text-decoration-color: #808000\">parameters</span>=<span style=\"font-weight: bold\">{}</span>,\n",
       "    <span style=\"color: #808000; text-decoration-color: #808000\">policy_template</span>=<span style=\"color: #008000; text-decoration-color: #008000\">'reject_prompt_injection'</span>,\n",
       "    <span style=\"color: #808000; text-decoration-color: #808000\">stats</span>=<span style=\"font-weight: bold\">{}</span>,\n",
       "    <span style=\"color: #808000; text-decoration-color: #808000\">is_input_policy</span>=<span style=\"color: #00ff00; text-decoration-color: #00ff00; font-style: italic\">True</span>,\n",
       "    <span style=\"color: #808000; text-decoration-color: #808000\">is_output_policy</span>=<span style=\"color: #ff0000; text-decoration-color: #ff0000; font-style: italic\">False</span>,\n",
       "    <span style=\"color: #808000; text-decoration-color: #808000\">created_at</span>=<span style=\"color: #800080; text-decoration-color: #800080; font-weight: bold\">datetime</span><span style=\"color: #800080; text-decoration-color: #800080; font-weight: bold\">.datetime</span><span style=\"font-weight: bold\">(</span><span style=\"color: #008080; text-decoration-color: #008080; font-weight: bold\">2025</span>, <span style=\"color: #008080; text-decoration-color: #008080; font-weight: bold\">6</span>, <span style=\"color: #008080; text-decoration-color: #008080; font-weight: bold\">21</span>, <span style=\"color: #008080; text-decoration-color: #008080; font-weight: bold\">0</span>, <span style=\"color: #008080; text-decoration-color: #008080; font-weight: bold\">0</span>, <span style=\"color: #808000; text-decoration-color: #808000\">tzinfo</span>=<span style=\"color: #800080; text-decoration-color: #800080; font-weight: bold\">TzInfo</span><span style=\"font-weight: bold\">(</span>UTC<span style=\"font-weight: bold\">))</span>,\n",
       "    <span style=\"color: #808000; text-decoration-color: #808000\">updated_at</span>=<span style=\"color: #800080; text-decoration-color: #800080; font-weight: bold\">datetime</span><span style=\"color: #800080; text-decoration-color: #800080; font-weight: bold\">.datetime</span><span style=\"font-weight: bold\">(</span><span style=\"color: #008080; text-decoration-color: #008080; font-weight: bold\">2025</span>, <span style=\"color: #008080; text-decoration-color: #008080; font-weight: bold\">6</span>, <span style=\"color: #008080; text-decoration-color: #008080; font-weight: bold\">21</span>, <span style=\"color: #008080; text-decoration-color: #008080; font-weight: bold\">0</span>, <span style=\"color: #008080; text-decoration-color: #008080; font-weight: bold\">0</span>, <span style=\"color: #808000; text-decoration-color: #808000\">tzinfo</span>=<span style=\"color: #800080; text-decoration-color: #800080; font-weight: bold\">TzInfo</span><span style=\"font-weight: bold\">(</span>UTC<span style=\"font-weight: bold\">))</span>,\n",
       "    <span style=\"color: #808000; text-decoration-color: #808000\">is_built_in</span>=<span style=\"color: #00ff00; text-decoration-color: #00ff00; font-style: italic\">True</span>\n",
       "<span style=\"font-weight: bold\">)</span>\n",
       "</pre>\n"
      ],
      "text/plain": [
       "\u001b[1;35mPolicyResponse\u001b[0m\u001b[1m(\u001b[0m\n",
       "    \u001b[33mpolicy_id\u001b[0m=\u001b[32m'reject_prompt_injection'\u001b[0m,\n",
       "    \u001b[33mpolicy_description\u001b[0m=\u001b[32m'Rejects prompt injection attempts.'\u001b[0m,\n",
       "    \u001b[33mparameters\u001b[0m=\u001b[1m{\u001b[0m\u001b[1m}\u001b[0m,\n",
       "    \u001b[33mpolicy_template\u001b[0m=\u001b[32m'reject_prompt_injection'\u001b[0m,\n",
       "    \u001b[33mstats\u001b[0m=\u001b[1m{\u001b[0m\u001b[1m}\u001b[0m,\n",
       "    \u001b[33mis_input_policy\u001b[0m=\u001b[3;92mTrue\u001b[0m,\n",
       "    \u001b[33mis_output_policy\u001b[0m=\u001b[3;91mFalse\u001b[0m,\n",
       "    \u001b[33mcreated_at\u001b[0m=\u001b[1;35mdatetime\u001b[0m\u001b[1;35m.datetime\u001b[0m\u001b[1m(\u001b[0m\u001b[1;36m2025\u001b[0m, \u001b[1;36m6\u001b[0m, \u001b[1;36m21\u001b[0m, \u001b[1;36m0\u001b[0m, \u001b[1;36m0\u001b[0m, \u001b[33mtzinfo\u001b[0m=\u001b[1;35mTzInfo\u001b[0m\u001b[1m(\u001b[0mUTC\u001b[1m)\u001b[0m\u001b[1m)\u001b[0m,\n",
       "    \u001b[33mupdated_at\u001b[0m=\u001b[1;35mdatetime\u001b[0m\u001b[1;35m.datetime\u001b[0m\u001b[1m(\u001b[0m\u001b[1;36m2025\u001b[0m, \u001b[1;36m6\u001b[0m, \u001b[1;36m21\u001b[0m, \u001b[1;36m0\u001b[0m, \u001b[1;36m0\u001b[0m, \u001b[33mtzinfo\u001b[0m=\u001b[1;35mTzInfo\u001b[0m\u001b[1m(\u001b[0mUTC\u001b[1m)\u001b[0m\u001b[1m)\u001b[0m,\n",
       "    \u001b[33mis_built_in\u001b[0m=\u001b[3;92mTrue\u001b[0m\n",
       "\u001b[1m)\u001b[0m\n"
      ]
     },
     "metadata": {},
     "output_type": "display_data"
    },
    {
     "data": {
      "text/html": [
       "<pre style=\"white-space:pre;overflow-x:auto;line-height:normal;font-family:Menlo,'DejaVu Sans Mono',consolas,'Courier New',monospace\"><span style=\"color: #800080; text-decoration-color: #800080; font-weight: bold\">PolicyResponse</span><span style=\"font-weight: bold\">(</span>\n",
       "    <span style=\"color: #808000; text-decoration-color: #808000\">policy_id</span>=<span style=\"color: #008000; text-decoration-color: #008000\">'reject_irrelevant_answer'</span>,\n",
       "    <span style=\"color: #808000; text-decoration-color: #808000\">policy_description</span>=<span style=\"color: #008000; text-decoration-color: #008000\">'Rejects irrelevant answers.'</span>,\n",
       "    <span style=\"color: #808000; text-decoration-color: #808000\">parameters</span>=<span style=\"font-weight: bold\">{}</span>,\n",
       "    <span style=\"color: #808000; text-decoration-color: #808000\">policy_template</span>=<span style=\"color: #008000; text-decoration-color: #008000\">'reject_irrelevant_answer'</span>,\n",
       "    <span style=\"color: #808000; text-decoration-color: #808000\">stats</span>=<span style=\"font-weight: bold\">{}</span>,\n",
       "    <span style=\"color: #808000; text-decoration-color: #808000\">is_input_policy</span>=<span style=\"color: #ff0000; text-decoration-color: #ff0000; font-style: italic\">False</span>,\n",
       "    <span style=\"color: #808000; text-decoration-color: #808000\">is_output_policy</span>=<span style=\"color: #00ff00; text-decoration-color: #00ff00; font-style: italic\">True</span>,\n",
       "    <span style=\"color: #808000; text-decoration-color: #808000\">created_at</span>=<span style=\"color: #800080; text-decoration-color: #800080; font-weight: bold\">datetime</span><span style=\"color: #800080; text-decoration-color: #800080; font-weight: bold\">.datetime</span><span style=\"font-weight: bold\">(</span><span style=\"color: #008080; text-decoration-color: #008080; font-weight: bold\">2025</span>, <span style=\"color: #008080; text-decoration-color: #008080; font-weight: bold\">6</span>, <span style=\"color: #008080; text-decoration-color: #008080; font-weight: bold\">21</span>, <span style=\"color: #008080; text-decoration-color: #008080; font-weight: bold\">0</span>, <span style=\"color: #008080; text-decoration-color: #008080; font-weight: bold\">0</span>, <span style=\"color: #808000; text-decoration-color: #808000\">tzinfo</span>=<span style=\"color: #800080; text-decoration-color: #800080; font-weight: bold\">TzInfo</span><span style=\"font-weight: bold\">(</span>UTC<span style=\"font-weight: bold\">))</span>,\n",
       "    <span style=\"color: #808000; text-decoration-color: #808000\">updated_at</span>=<span style=\"color: #800080; text-decoration-color: #800080; font-weight: bold\">datetime</span><span style=\"color: #800080; text-decoration-color: #800080; font-weight: bold\">.datetime</span><span style=\"font-weight: bold\">(</span><span style=\"color: #008080; text-decoration-color: #008080; font-weight: bold\">2025</span>, <span style=\"color: #008080; text-decoration-color: #008080; font-weight: bold\">6</span>, <span style=\"color: #008080; text-decoration-color: #008080; font-weight: bold\">21</span>, <span style=\"color: #008080; text-decoration-color: #008080; font-weight: bold\">0</span>, <span style=\"color: #008080; text-decoration-color: #008080; font-weight: bold\">0</span>, <span style=\"color: #808000; text-decoration-color: #808000\">tzinfo</span>=<span style=\"color: #800080; text-decoration-color: #800080; font-weight: bold\">TzInfo</span><span style=\"font-weight: bold\">(</span>UTC<span style=\"font-weight: bold\">))</span>,\n",
       "    <span style=\"color: #808000; text-decoration-color: #808000\">is_built_in</span>=<span style=\"color: #00ff00; text-decoration-color: #00ff00; font-style: italic\">True</span>\n",
       "<span style=\"font-weight: bold\">)</span>\n",
       "</pre>\n"
      ],
      "text/plain": [
       "\u001b[1;35mPolicyResponse\u001b[0m\u001b[1m(\u001b[0m\n",
       "    \u001b[33mpolicy_id\u001b[0m=\u001b[32m'reject_irrelevant_answer'\u001b[0m,\n",
       "    \u001b[33mpolicy_description\u001b[0m=\u001b[32m'Rejects irrelevant answers.'\u001b[0m,\n",
       "    \u001b[33mparameters\u001b[0m=\u001b[1m{\u001b[0m\u001b[1m}\u001b[0m,\n",
       "    \u001b[33mpolicy_template\u001b[0m=\u001b[32m'reject_irrelevant_answer'\u001b[0m,\n",
       "    \u001b[33mstats\u001b[0m=\u001b[1m{\u001b[0m\u001b[1m}\u001b[0m,\n",
       "    \u001b[33mis_input_policy\u001b[0m=\u001b[3;91mFalse\u001b[0m,\n",
       "    \u001b[33mis_output_policy\u001b[0m=\u001b[3;92mTrue\u001b[0m,\n",
       "    \u001b[33mcreated_at\u001b[0m=\u001b[1;35mdatetime\u001b[0m\u001b[1;35m.datetime\u001b[0m\u001b[1m(\u001b[0m\u001b[1;36m2025\u001b[0m, \u001b[1;36m6\u001b[0m, \u001b[1;36m21\u001b[0m, \u001b[1;36m0\u001b[0m, \u001b[1;36m0\u001b[0m, \u001b[33mtzinfo\u001b[0m=\u001b[1;35mTzInfo\u001b[0m\u001b[1m(\u001b[0mUTC\u001b[1m)\u001b[0m\u001b[1m)\u001b[0m,\n",
       "    \u001b[33mupdated_at\u001b[0m=\u001b[1;35mdatetime\u001b[0m\u001b[1;35m.datetime\u001b[0m\u001b[1m(\u001b[0m\u001b[1;36m2025\u001b[0m, \u001b[1;36m6\u001b[0m, \u001b[1;36m21\u001b[0m, \u001b[1;36m0\u001b[0m, \u001b[1;36m0\u001b[0m, \u001b[33mtzinfo\u001b[0m=\u001b[1;35mTzInfo\u001b[0m\u001b[1m(\u001b[0mUTC\u001b[1m)\u001b[0m\u001b[1m)\u001b[0m,\n",
       "    \u001b[33mis_built_in\u001b[0m=\u001b[3;92mTrue\u001b[0m\n",
       "\u001b[1m)\u001b[0m\n"
      ]
     },
     "metadata": {},
     "output_type": "display_data"
    },
    {
     "data": {
      "text/html": [
       "<pre style=\"white-space:pre;overflow-x:auto;line-height:normal;font-family:Menlo,'DejaVu Sans Mono',consolas,'Courier New',monospace\"><span style=\"color: #800080; text-decoration-color: #800080; font-weight: bold\">PolicyResponse</span><span style=\"font-weight: bold\">(</span>\n",
       "    <span style=\"color: #808000; text-decoration-color: #808000\">policy_id</span>=<span style=\"color: #008000; text-decoration-color: #008000\">'redact_our_pii'</span>,\n",
       "    <span style=\"color: #808000; text-decoration-color: #808000\">policy_description</span>=<span style=\"color: #008000; text-decoration-color: #008000\">'Remove PII relevant to our use case, keep the rest'</span>,\n",
       "    <span style=\"color: #808000; text-decoration-color: #808000\">parameters</span>=<span style=\"font-weight: bold\">{</span><span style=\"color: #008000; text-decoration-color: #008000\">'pii_types'</span>: <span style=\"font-weight: bold\">[</span><span style=\"color: #008000; text-decoration-color: #008000\">'DEMOGRAPHIC_DATA'</span>, <span style=\"color: #008000; text-decoration-color: #008000\">'GOVERNMENT_ID'</span>, <span style=\"color: #008000; text-decoration-color: #008000\">'PERSON_NAME'</span><span style=\"font-weight: bold\">]}</span>,\n",
       "    <span style=\"color: #808000; text-decoration-color: #808000\">policy_template</span>=<span style=\"color: #008000; text-decoration-color: #008000\">'anonymize_pii'</span>,\n",
       "    <span style=\"color: #808000; text-decoration-color: #808000\">stats</span>=<span style=\"font-weight: bold\">{}</span>,\n",
       "    <span style=\"color: #808000; text-decoration-color: #808000\">is_input_policy</span>=<span style=\"color: #00ff00; text-decoration-color: #00ff00; font-style: italic\">True</span>,\n",
       "    <span style=\"color: #808000; text-decoration-color: #808000\">is_output_policy</span>=<span style=\"color: #00ff00; text-decoration-color: #00ff00; font-style: italic\">True</span>,\n",
       "    <span style=\"color: #808000; text-decoration-color: #808000\">created_at</span>=<span style=\"color: #800080; text-decoration-color: #800080; font-weight: bold\">datetime</span><span style=\"color: #800080; text-decoration-color: #800080; font-weight: bold\">.datetime</span><span style=\"font-weight: bold\">(</span><span style=\"color: #008080; text-decoration-color: #008080; font-weight: bold\">2025</span>, <span style=\"color: #008080; text-decoration-color: #008080; font-weight: bold\">7</span>, <span style=\"color: #008080; text-decoration-color: #008080; font-weight: bold\">8</span>, <span style=\"color: #008080; text-decoration-color: #008080; font-weight: bold\">11</span>, <span style=\"color: #008080; text-decoration-color: #008080; font-weight: bold\">53</span>, <span style=\"color: #008080; text-decoration-color: #008080; font-weight: bold\">58</span>, <span style=\"color: #008080; text-decoration-color: #008080; font-weight: bold\">765086</span>, <span style=\"color: #808000; text-decoration-color: #808000\">tzinfo</span>=<span style=\"color: #800080; text-decoration-color: #800080; font-weight: bold\">TzInfo</span><span style=\"font-weight: bold\">(</span>UTC<span style=\"font-weight: bold\">))</span>,\n",
       "    <span style=\"color: #808000; text-decoration-color: #808000\">updated_at</span>=<span style=\"color: #800080; text-decoration-color: #800080; font-style: italic\">None</span>,\n",
       "    <span style=\"color: #808000; text-decoration-color: #808000\">is_built_in</span>=<span style=\"color: #ff0000; text-decoration-color: #ff0000; font-style: italic\">False</span>\n",
       "<span style=\"font-weight: bold\">)</span>\n",
       "</pre>\n"
      ],
      "text/plain": [
       "\u001b[1;35mPolicyResponse\u001b[0m\u001b[1m(\u001b[0m\n",
       "    \u001b[33mpolicy_id\u001b[0m=\u001b[32m'redact_our_pii'\u001b[0m,\n",
       "    \u001b[33mpolicy_description\u001b[0m=\u001b[32m'Remove PII relevant to our use case, keep the rest'\u001b[0m,\n",
       "    \u001b[33mparameters\u001b[0m=\u001b[1m{\u001b[0m\u001b[32m'pii_types'\u001b[0m: \u001b[1m[\u001b[0m\u001b[32m'DEMOGRAPHIC_DATA'\u001b[0m, \u001b[32m'GOVERNMENT_ID'\u001b[0m, \u001b[32m'PERSON_NAME'\u001b[0m\u001b[1m]\u001b[0m\u001b[1m}\u001b[0m,\n",
       "    \u001b[33mpolicy_template\u001b[0m=\u001b[32m'anonymize_pii'\u001b[0m,\n",
       "    \u001b[33mstats\u001b[0m=\u001b[1m{\u001b[0m\u001b[1m}\u001b[0m,\n",
       "    \u001b[33mis_input_policy\u001b[0m=\u001b[3;92mTrue\u001b[0m,\n",
       "    \u001b[33mis_output_policy\u001b[0m=\u001b[3;92mTrue\u001b[0m,\n",
       "    \u001b[33mcreated_at\u001b[0m=\u001b[1;35mdatetime\u001b[0m\u001b[1;35m.datetime\u001b[0m\u001b[1m(\u001b[0m\u001b[1;36m2025\u001b[0m, \u001b[1;36m7\u001b[0m, \u001b[1;36m8\u001b[0m, \u001b[1;36m11\u001b[0m, \u001b[1;36m53\u001b[0m, \u001b[1;36m58\u001b[0m, \u001b[1;36m765086\u001b[0m, \u001b[33mtzinfo\u001b[0m=\u001b[1;35mTzInfo\u001b[0m\u001b[1m(\u001b[0mUTC\u001b[1m)\u001b[0m\u001b[1m)\u001b[0m,\n",
       "    \u001b[33mupdated_at\u001b[0m=\u001b[3;35mNone\u001b[0m,\n",
       "    \u001b[33mis_built_in\u001b[0m=\u001b[3;91mFalse\u001b[0m\n",
       "\u001b[1m)\u001b[0m\n"
      ]
     },
     "metadata": {},
     "output_type": "display_data"
    },
    {
     "data": {
      "text/plain": [
       "[, , , , ]"
      ]
     },
     "execution_count": 37,
     "metadata": {},
     "output_type": "execute_result"
    }
   ],
   "source": [
    "overmind.policies.list()"
   ]
  },
  {
   "cell_type": "markdown",
   "id": "bbb10760-fff8-44e2-819a-068b64388eb6",
   "metadata": {},
   "source": [
    "Once you've created your new policy you can create new agent and assign that policy to it"
   ]
  },
  {
   "cell_type": "code",
   "execution_count": 42,
   "id": "ba6d1493-bca0-40fb-b680-76539ba481aa",
   "metadata": {},
   "outputs": [
    {
     "data": {
      "text/plain": [
       "{'status': 'success'}"
      ]
     },
     "execution_count": 42,
     "metadata": {},
     "output_type": "execute_result"
    }
   ],
   "source": [
    "overmind.agents.create(\n",
    "    agent_id='embedding_agent',\n",
    "    agent_description='Create document embedding without our PII',\n",
    "    agent_model='openai.text-embedding-3-small',\n",
    "    input_policies=['redact_our_pii'],\n",
    ")"
   ]
  },
  {
   "cell_type": "markdown",
   "id": "1f764b66-42a7-4fc6-975b-45aa01674ff2",
   "metadata": {},
   "source": [
    "Agents can be listed via API or viewed in the UI too"
   ]
  },
  {
   "cell_type": "code",
   "execution_count": 43,
   "id": "338b7fa1-f2f8-4559-bc80-66a3c719499a",
   "metadata": {},
   "outputs": [
    {
     "data": {
      "text/html": [
       "<pre style=\"white-space:pre;overflow-x:auto;line-height:normal;font-family:Menlo,'DejaVu Sans Mono',consolas,'Courier New',monospace\"><span style=\"color: #800080; text-decoration-color: #800080; font-weight: bold\">AgentResponse</span><span style=\"font-weight: bold\">(</span>\n",
       "    <span style=\"color: #808000; text-decoration-color: #808000\">agent_id</span>=<span style=\"color: #008000; text-decoration-color: #008000\">'default_agent'</span>,\n",
       "    <span style=\"color: #808000; text-decoration-color: #808000\">agent_model</span>=<span style=\"color: #008000; text-decoration-color: #008000\">'gpt-4o'</span>,\n",
       "    <span style=\"color: #808000; text-decoration-color: #808000\">agent_description</span>=<span style=\"color: #008000; text-decoration-color: #008000\">'Default agent with security and relevance policies'</span>,\n",
       "    <span style=\"color: #808000; text-decoration-color: #808000\">input_policies</span>=<span style=\"font-weight: bold\">[</span><span style=\"color: #008000; text-decoration-color: #008000\">'reject_prompt_injection'</span><span style=\"font-weight: bold\">]</span>,\n",
       "    <span style=\"color: #808000; text-decoration-color: #808000\">output_policies</span>=<span style=\"font-weight: bold\">[</span><span style=\"color: #008000; text-decoration-color: #008000\">'reject_irrelevant_answer'</span><span style=\"font-weight: bold\">]</span>,\n",
       "    <span style=\"color: #808000; text-decoration-color: #808000\">stats</span>=<span style=\"font-weight: bold\">{}</span>,\n",
       "    <span style=\"color: #808000; text-decoration-color: #808000\">parameters</span>=<span style=\"font-weight: bold\">{}</span>,\n",
       "    <span style=\"color: #808000; text-decoration-color: #808000\">business_id</span>=<span style=\"color: #008000; text-decoration-color: #008000\">'AgenticCo Ltd'</span>,\n",
       "    <span style=\"color: #808000; text-decoration-color: #808000\">created_at</span>=<span style=\"color: #800080; text-decoration-color: #800080; font-weight: bold\">datetime</span><span style=\"color: #800080; text-decoration-color: #800080; font-weight: bold\">.datetime</span><span style=\"font-weight: bold\">(</span><span style=\"color: #008080; text-decoration-color: #008080; font-weight: bold\">2025</span>, <span style=\"color: #008080; text-decoration-color: #008080; font-weight: bold\">7</span>, <span style=\"color: #008080; text-decoration-color: #008080; font-weight: bold\">7</span>, <span style=\"color: #008080; text-decoration-color: #008080; font-weight: bold\">20</span>, <span style=\"color: #008080; text-decoration-color: #008080; font-weight: bold\">43</span>, <span style=\"color: #008080; text-decoration-color: #008080; font-weight: bold\">37</span>, <span style=\"color: #008080; text-decoration-color: #008080; font-weight: bold\">667820</span>, <span style=\"color: #808000; text-decoration-color: #808000\">tzinfo</span>=<span style=\"color: #800080; text-decoration-color: #800080; font-weight: bold\">TzInfo</span><span style=\"font-weight: bold\">(</span>UTC<span style=\"font-weight: bold\">))</span>,\n",
       "    <span style=\"color: #808000; text-decoration-color: #808000\">updated_at</span>=<span style=\"color: #800080; text-decoration-color: #800080; font-style: italic\">None</span>\n",
       "<span style=\"font-weight: bold\">)</span>\n",
       "</pre>\n"
      ],
      "text/plain": [
       "\u001b[1;35mAgentResponse\u001b[0m\u001b[1m(\u001b[0m\n",
       "    \u001b[33magent_id\u001b[0m=\u001b[32m'default_agent'\u001b[0m,\n",
       "    \u001b[33magent_model\u001b[0m=\u001b[32m'gpt-4o'\u001b[0m,\n",
       "    \u001b[33magent_description\u001b[0m=\u001b[32m'Default agent with security and relevance policies'\u001b[0m,\n",
       "    \u001b[33minput_policies\u001b[0m=\u001b[1m[\u001b[0m\u001b[32m'reject_prompt_injection'\u001b[0m\u001b[1m]\u001b[0m,\n",
       "    \u001b[33moutput_policies\u001b[0m=\u001b[1m[\u001b[0m\u001b[32m'reject_irrelevant_answer'\u001b[0m\u001b[1m]\u001b[0m,\n",
       "    \u001b[33mstats\u001b[0m=\u001b[1m{\u001b[0m\u001b[1m}\u001b[0m,\n",
       "    \u001b[33mparameters\u001b[0m=\u001b[1m{\u001b[0m\u001b[1m}\u001b[0m,\n",
       "    \u001b[33mbusiness_id\u001b[0m=\u001b[32m'AgenticCo Ltd'\u001b[0m,\n",
       "    \u001b[33mcreated_at\u001b[0m=\u001b[1;35mdatetime\u001b[0m\u001b[1;35m.datetime\u001b[0m\u001b[1m(\u001b[0m\u001b[1;36m2025\u001b[0m, \u001b[1;36m7\u001b[0m, \u001b[1;36m7\u001b[0m, \u001b[1;36m20\u001b[0m, \u001b[1;36m43\u001b[0m, \u001b[1;36m37\u001b[0m, \u001b[1;36m667820\u001b[0m, \u001b[33mtzinfo\u001b[0m=\u001b[1;35mTzInfo\u001b[0m\u001b[1m(\u001b[0mUTC\u001b[1m)\u001b[0m\u001b[1m)\u001b[0m,\n",
       "    \u001b[33mupdated_at\u001b[0m=\u001b[3;35mNone\u001b[0m\n",
       "\u001b[1m)\u001b[0m\n"
      ]
     },
     "metadata": {},
     "output_type": "display_data"
    },
    {
     "data": {
      "text/html": [
       "<pre style=\"white-space:pre;overflow-x:auto;line-height:normal;font-family:Menlo,'DejaVu Sans Mono',consolas,'Courier New',monospace\"><span style=\"color: #800080; text-decoration-color: #800080; font-weight: bold\">AgentResponse</span><span style=\"font-weight: bold\">(</span>\n",
       "    <span style=\"color: #808000; text-decoration-color: #808000\">agent_id</span>=<span style=\"color: #008000; text-decoration-color: #008000\">'embedding_agent'</span>,\n",
       "    <span style=\"color: #808000; text-decoration-color: #808000\">agent_model</span>=<span style=\"color: #008000; text-decoration-color: #008000\">'openai.text-embedding-3-small'</span>,\n",
       "    <span style=\"color: #808000; text-decoration-color: #808000\">agent_description</span>=<span style=\"color: #008000; text-decoration-color: #008000\">'Create document embedding without our PII'</span>,\n",
       "    <span style=\"color: #808000; text-decoration-color: #808000\">input_policies</span>=<span style=\"font-weight: bold\">[</span><span style=\"color: #008000; text-decoration-color: #008000\">'redact_our_pii'</span><span style=\"font-weight: bold\">]</span>,\n",
       "    <span style=\"color: #808000; text-decoration-color: #808000\">output_policies</span>=<span style=\"font-weight: bold\">[]</span>,\n",
       "    <span style=\"color: #808000; text-decoration-color: #808000\">stats</span>=<span style=\"font-weight: bold\">{}</span>,\n",
       "    <span style=\"color: #808000; text-decoration-color: #808000\">parameters</span>=<span style=\"font-weight: bold\">{}</span>,\n",
       "    <span style=\"color: #808000; text-decoration-color: #808000\">business_id</span>=<span style=\"color: #008000; text-decoration-color: #008000\">'AgenticCo Ltd'</span>,\n",
       "    <span style=\"color: #808000; text-decoration-color: #808000\">created_at</span>=<span style=\"color: #800080; text-decoration-color: #800080; font-weight: bold\">datetime</span><span style=\"color: #800080; text-decoration-color: #800080; font-weight: bold\">.datetime</span><span style=\"font-weight: bold\">(</span><span style=\"color: #008080; text-decoration-color: #008080; font-weight: bold\">2025</span>, <span style=\"color: #008080; text-decoration-color: #008080; font-weight: bold\">7</span>, <span style=\"color: #008080; text-decoration-color: #008080; font-weight: bold\">8</span>, <span style=\"color: #008080; text-decoration-color: #008080; font-weight: bold\">11</span>, <span style=\"color: #008080; text-decoration-color: #008080; font-weight: bold\">55</span>, <span style=\"color: #008080; text-decoration-color: #008080; font-weight: bold\">49</span>, <span style=\"color: #008080; text-decoration-color: #008080; font-weight: bold\">999391</span>, <span style=\"color: #808000; text-decoration-color: #808000\">tzinfo</span>=<span style=\"color: #800080; text-decoration-color: #800080; font-weight: bold\">TzInfo</span><span style=\"font-weight: bold\">(</span>UTC<span style=\"font-weight: bold\">))</span>,\n",
       "    <span style=\"color: #808000; text-decoration-color: #808000\">updated_at</span>=<span style=\"color: #800080; text-decoration-color: #800080; font-style: italic\">None</span>\n",
       "<span style=\"font-weight: bold\">)</span>\n",
       "</pre>\n"
      ],
      "text/plain": [
       "\u001b[1;35mAgentResponse\u001b[0m\u001b[1m(\u001b[0m\n",
       "    \u001b[33magent_id\u001b[0m=\u001b[32m'embedding_agent'\u001b[0m,\n",
       "    \u001b[33magent_model\u001b[0m=\u001b[32m'openai.text-embedding-3-small'\u001b[0m,\n",
       "    \u001b[33magent_description\u001b[0m=\u001b[32m'Create document embedding without our PII'\u001b[0m,\n",
       "    \u001b[33minput_policies\u001b[0m=\u001b[1m[\u001b[0m\u001b[32m'redact_our_pii'\u001b[0m\u001b[1m]\u001b[0m,\n",
       "    \u001b[33moutput_policies\u001b[0m=\u001b[1m[\u001b[0m\u001b[1m]\u001b[0m,\n",
       "    \u001b[33mstats\u001b[0m=\u001b[1m{\u001b[0m\u001b[1m}\u001b[0m,\n",
       "    \u001b[33mparameters\u001b[0m=\u001b[1m{\u001b[0m\u001b[1m}\u001b[0m,\n",
       "    \u001b[33mbusiness_id\u001b[0m=\u001b[32m'AgenticCo Ltd'\u001b[0m,\n",
       "    \u001b[33mcreated_at\u001b[0m=\u001b[1;35mdatetime\u001b[0m\u001b[1;35m.datetime\u001b[0m\u001b[1m(\u001b[0m\u001b[1;36m2025\u001b[0m, \u001b[1;36m7\u001b[0m, \u001b[1;36m8\u001b[0m, \u001b[1;36m11\u001b[0m, \u001b[1;36m55\u001b[0m, \u001b[1;36m49\u001b[0m, \u001b[1;36m999391\u001b[0m, \u001b[33mtzinfo\u001b[0m=\u001b[1;35mTzInfo\u001b[0m\u001b[1m(\u001b[0mUTC\u001b[1m)\u001b[0m\u001b[1m)\u001b[0m,\n",
       "    \u001b[33mupdated_at\u001b[0m=\u001b[3;35mNone\u001b[0m\n",
       "\u001b[1m)\u001b[0m\n"
      ]
     },
     "metadata": {},
     "output_type": "display_data"
    },
    {
     "data": {
      "text/plain": [
       "[, ]"
      ]
     },
     "execution_count": 43,
     "metadata": {},
     "output_type": "execute_result"
    }
   ],
   "source": [
    "overmind.agents.list()"
   ]
  },
  {
   "cell_type": "markdown",
   "id": "d1ec5db9-33d3-431b-8b70-9352abe43042",
   "metadata": {},
   "source": [
    "Below we can now call our agent, by using standard OpenAI's method. Let's say we want to use it to generate document embedding for our RAG application, while obfuscating PII data"
   ]
  },
  {
   "cell_type": "code",
   "execution_count": 10,
   "id": "d712e483-de35-4bd9-8bbe-4983eb87e6a5",
   "metadata": {},
   "outputs": [],
   "source": [
    "input_document = \"\"\"\n",
    "Dear Jon Smith,\n",
    "\n",
    "We're glad to inform you that your visa application for passport number 19318291 has been successfull...\n",
    "\"\"\"\n",
    "\n",
    "result = overmind.openai.embeddings.create(\n",
    "    model=\"text-embedding-3-small\", \n",
    "    input=input_document, \n",
    "    encoding_format=\"float\",\n",
    "    agent_id='embedding_agent',\n",
    ")"
   ]
  },
  {
   "cell_type": "code",
   "execution_count": 21,
   "id": "fbdb1773-423f-4e60-bd20-8bc8b07da273",
   "metadata": {},
   "outputs": [
    {
     "data": {
      "text/html": [
       "<pre style=\"white-space:pre;overflow-x:auto;line-height:normal;font-family:Menlo,'DejaVu Sans Mono',consolas,'Courier New',monospace\"><span style=\"color: #008000; text-decoration-color: #008000\">╭────────────────────────────────────────── </span><span style=\"color: #008080; text-decoration-color: #008080; font-weight: bold\">Invocation &amp; Policy Summary</span><span style=\"color: #008000; text-decoration-color: #008000\"> ──────────────────────────────────────────╮</span>\n",
       "<span style=\"color: #008000; text-decoration-color: #008000\">│</span> <span style=\"font-style: italic\">   Invocation Results    </span>                                                                                       <span style=\"color: #008000; text-decoration-color: #008000\">│</span>\n",
       "<span style=\"color: #008000; text-decoration-color: #008000\">│</span> ┏━━━━━━━━━━━┳━━━━━━━━━━━┓                                                                                       <span style=\"color: #008000; text-decoration-color: #008000\">│</span>\n",
       "<span style=\"color: #008000; text-decoration-color: #008000\">│</span> ┃<span style=\"color: #c0c0c0; text-decoration-color: #c0c0c0; font-weight: bold\"> Component </span>┃<span style=\"color: #c0c0c0; text-decoration-color: #c0c0c0; font-weight: bold\">  Outcome  </span>┃                                                                                       <span style=\"color: #008000; text-decoration-color: #008000\">│</span>\n",
       "<span style=\"color: #008000; text-decoration-color: #008000\">│</span> ┡━━━━━━━━━━━╇━━━━━━━━━━━┩                                                                                       <span style=\"color: #008000; text-decoration-color: #008000\">│</span>\n",
       "<span style=\"color: #008000; text-decoration-color: #008000\">│</span> │<span style=\"color: #7f7f7f; text-decoration-color: #7f7f7f\"> Input     </span>│ <span style=\"color: #808000; text-decoration-color: #808000\">⚠️ ALTERED</span> │                                                                                       <span style=\"color: #008000; text-decoration-color: #008000\">│</span>\n",
       "<span style=\"color: #008000; text-decoration-color: #008000\">│</span> └───────────┴───────────┘                                                                                       <span style=\"color: #008000; text-decoration-color: #008000\">│</span>\n",
       "<span style=\"color: #008000; text-decoration-color: #008000\">│</span> <span style=\"font-style: italic\">                                                                                                           </span>     <span style=\"color: #008000; text-decoration-color: #008000\">│</span>\n",
       "<span style=\"color: #008000; text-decoration-color: #008000\">│</span> <span style=\"font-style: italic\">                                              Policy Results                                               </span>     <span style=\"color: #008000; text-decoration-color: #008000\">│</span>\n",
       "<span style=\"color: #008000; text-decoration-color: #008000\">│</span> ┏━━━━━━━━━━━━━━━━━━━━━━━━━━━━━━━━┳━━━━━━━━━━━━━━━━━━━━━━━━━━━━━━━━━━━━━━━━━━━━━━━━━━━━━━━━━━━━━━━━━━━━━━━━┓     <span style=\"color: #008000; text-decoration-color: #008000\">│</span>\n",
       "<span style=\"color: #008000; text-decoration-color: #008000\">│</span> ┃<span style=\"color: #c0c0c0; text-decoration-color: #c0c0c0; font-weight: bold\"> Policy                         </span>┃<span style=\"color: #c0c0c0; text-decoration-color: #c0c0c0; font-weight: bold\"> Details                                                                </span>┃     <span style=\"color: #008000; text-decoration-color: #008000\">│</span>\n",
       "<span style=\"color: #008000; text-decoration-color: #008000\">│</span> ┡━━━━━━━━━━━━━━━━━━━━━━━━━━━━━━━━╇━━━━━━━━━━━━━━━━━━━━━━━━━━━━━━━━━━━━━━━━━━━━━━━━━━━━━━━━━━━━━━━━━━━━━━━━┩     <span style=\"color: #008000; text-decoration-color: #008000\">│</span>\n",
       "<span style=\"color: #008000; text-decoration-color: #008000\">│</span> │<span style=\"color: #7f7f7f; text-decoration-color: #7f7f7f\"> PII_detected                   </span>│ <span style=\"color: #2aa198; text-decoration-color: #2aa198; background-color: #002b36\">true</span><span style=\"background-color: #002b36\">                                                                  </span> │     <span style=\"color: #008000; text-decoration-color: #008000\">│</span>\n",
       "<span style=\"color: #008000; text-decoration-color: #008000\">│</span> └────────────────────────────────┴────────────────────────────────────────────────────────────────────────┘     <span style=\"color: #008000; text-decoration-color: #008000\">│</span>\n",
       "<span style=\"color: #008000; text-decoration-color: #008000\">│</span> <span style=\"color: #808000; text-decoration-color: #808000\">╭─ </span><span style=\"color: #808000; text-decoration-color: #808000; font-weight: bold\">Processed Input</span><span style=\"color: #808000; text-decoration-color: #808000\"> ───────────────────────────────────────────────────────────────────────────────────────────╮</span> <span style=\"color: #008000; text-decoration-color: #008000\">│</span>\n",
       "<span style=\"color: #008000; text-decoration-color: #008000\">│</span> <span style=\"color: #808000; text-decoration-color: #808000\">│</span> <span style=\"background-color: #002b36\">                                                                                                           </span> <span style=\"color: #808000; text-decoration-color: #808000\">│</span> <span style=\"color: #008000; text-decoration-color: #008000\">│</span>\n",
       "<span style=\"color: #008000; text-decoration-color: #008000\">│</span> <span style=\"color: #808000; text-decoration-color: #808000\">│</span> <span style=\"color: #839496; text-decoration-color: #839496; background-color: #002b36\">Dear [PERSON_NAME],</span><span style=\"background-color: #002b36\">                                                                                        </span> <span style=\"color: #808000; text-decoration-color: #808000\">│</span> <span style=\"color: #008000; text-decoration-color: #008000\">│</span>\n",
       "<span style=\"color: #008000; text-decoration-color: #008000\">│</span> <span style=\"color: #808000; text-decoration-color: #808000\">│</span> <span style=\"background-color: #002b36\">                                                                                                           </span> <span style=\"color: #808000; text-decoration-color: #808000\">│</span> <span style=\"color: #008000; text-decoration-color: #008000\">│</span>\n",
       "<span style=\"color: #008000; text-decoration-color: #008000\">│</span> <span style=\"color: #808000; text-decoration-color: #808000\">│</span> <span style=\"color: #839496; text-decoration-color: #839496; background-color: #002b36\">We're glad to inform you that your visa application for passport number [GOVERNMENT_ID] has been </span><span style=\"background-color: #002b36\">          </span> <span style=\"color: #808000; text-decoration-color: #808000\">│</span> <span style=\"color: #008000; text-decoration-color: #008000\">│</span>\n",
       "<span style=\"color: #008000; text-decoration-color: #008000\">│</span> <span style=\"color: #808000; text-decoration-color: #808000\">│</span> <span style=\"color: #839496; text-decoration-color: #839496; background-color: #002b36\">successfull...</span><span style=\"background-color: #002b36\">                                                                                             </span> <span style=\"color: #808000; text-decoration-color: #808000\">│</span> <span style=\"color: #008000; text-decoration-color: #008000\">│</span>\n",
       "<span style=\"color: #008000; text-decoration-color: #008000\">│</span> <span style=\"color: #808000; text-decoration-color: #808000\">│</span> <span style=\"background-color: #002b36\">                                                                                                           </span> <span style=\"color: #808000; text-decoration-color: #808000\">│</span> <span style=\"color: #008000; text-decoration-color: #008000\">│</span>\n",
       "<span style=\"color: #008000; text-decoration-color: #008000\">│</span> <span style=\"color: #808000; text-decoration-color: #808000\">╰─────────────────────────────────────────────────────────────────────────────────────────────────────────────╯</span> <span style=\"color: #008000; text-decoration-color: #008000\">│</span>\n",
       "<span style=\"color: #008000; text-decoration-color: #008000\">│</span> <span style=\"color: #c0c0c0; text-decoration-color: #c0c0c0\">╭─ </span><span style=\"color: #c0c0c0; text-decoration-color: #c0c0c0; font-weight: bold\">Processed Output</span><span style=\"color: #c0c0c0; text-decoration-color: #c0c0c0\"> ──────────────────────────────────────────────────────────────────────────────────────────╮</span> <span style=\"color: #008000; text-decoration-color: #008000\">│</span>\n",
       "<span style=\"color: #008000; text-decoration-color: #008000\">│</span> <span style=\"color: #c0c0c0; text-decoration-color: #c0c0c0\">│</span> <span style=\"color: #839496; text-decoration-color: #839496; background-color: #002b36\">{0.025000753,-0.004662652,0.004994859,-0.031680163,-0.014123191,-0.0338204,-0.00087020494,0.023871839,-0.00</span> <span style=\"color: #c0c0c0; text-decoration-color: #c0c0c0\">│</span> <span style=\"color: #008000; text-decoration-color: #008000\">│</span>\n",
       "<span style=\"color: #008000; text-decoration-color: #008000\">│</span> <span style=\"color: #c0c0c0; text-decoration-color: #c0c0c0\">│</span> <span style=\"color: #839496; text-decoration-color: #839496; background-color: #002b36\">69440003,-0.03175072,0.014170229,-0.02681172,-0.046567723,0.028105268,0.00066184084,0.048449248,-0.01441718</span> <span style=\"color: #c0c0c0; text-decoration-color: #c0c0c0\">│</span> <span style=\"color: #008000; text-decoration-color: #008000\">│</span>\n",
       "<span style=\"color: #008000; text-decoration-color: #008000\">│</span> <span style=\"color: #c0c0c0; text-decoration-color: #c0c0c0\">│</span> <span style=\"color: #839496; text-decoration-color: #839496; background-color: #002b36\">,0.03873588,-0.06260772,0.0036895515,0.050848193,0.023248583,0.013229467,-0.020955477,0.008972519,-0.018803</span> <span style=\"color: #c0c0c0; text-decoration-color: #c0c0c0\">│</span> <span style=\"color: #008000; text-decoration-color: #008000\">│</span>\n",
       "<span style=\"color: #008000; text-decoration-color: #008000\">│</span> <span style=\"color: #c0c0c0; text-decoration-color: #c0c0c0\">│</span> <span style=\"color: #839496; text-decoration-color: #839496; background-color: #002b36\">483,-0.017933277,-0.043133944,0.033914473,-0.0436984,0.03445541,-0.009013677,0.009672211,0.0650537,-0.02415</span> <span style=\"color: #c0c0c0; text-decoration-color: #c0c0c0\">│</span> <span style=\"color: #008000; text-decoration-color: #008000\">│</span>\n",
       "<span style=\"color: #008000; text-decoration-color: #008000\">│</span> <span style=\"color: #c0c0c0; text-decoration-color: #c0c0c0\">│</span> <span style=\"color: #839496; text-decoration-color: #839496; background-color: #002b36\">4067,0.021225946,-0.0338204,-0.012371022,-0.027352659,-0.0074908184,0.031703684,0.004742029,0.027658407,0.0</span> <span style=\"color: #c0c0c0; text-decoration-color: #c0c0c0\">│</span> <span style=\"color: #008000; text-decoration-color: #008000\">│</span>\n",
       "<span style=\"color: #008000; text-decoration-color: #008000\">│</span> <span style=\"color: #c0c0c0; text-decoration-color: #c0c0c0\">│</span> <span style=\"color: #839496; text-decoration-color: #839496; background-color: #002b36\">18544773,-0.017956797,0.05343529,-0.00046854364,-0.036360458,0.017756885,0.03847717,0.024812602,-0.00609731</span> <span style=\"color: #c0c0c0; text-decoration-color: #c0c0c0\">│</span> <span style=\"color: #008000; text-decoration-color: #008000\">│</span>\n",
       "<span style=\"color: #008000; text-decoration-color: #008000\">│</span> <span style=\"color: #c0c0c0; text-decoration-color: #c0c0c0\">│</span> <span style=\"color: #839496; text-decoration-color: #839496; background-color: #002b36\">44,-0.0058268453,0.086314924,-0.017733365,-0.048402213,0.051083382,-0.009607533,-0.031397935,-0.03499635,0.</span> <span style=\"color: #c0c0c0; text-decoration-color: #c0c0c0\">│</span> <span style=\"color: #008000; text-decoration-color: #008000\">│</span>\n",
       "<span style=\"color: #008000; text-decoration-color: #008000\">│</span> <span style=\"color: #c0c0c0; text-decoration-color: #c0c0c0\">│</span> <span style=\"color: #839496; text-decoration-color: #839496; background-color: #002b36\">0018785844,0.003028078,-0.0019770705,-0.009125393,0.031656645,0.016122311,-0.0035102186,0.05216526,0.023871</span> <span style=\"color: #c0c0c0; text-decoration-color: #c0c0c0\">│</span> <span style=\"color: #008000; text-decoration-color: #008000\">│</span>\n",
       "<span style=\"color: #008000; text-decoration-color: #008000\">│</span> <span style=\"color: #c0c0c0; text-decoration-color: #c0c0c0\">│</span> <span style=\"color: #839496; text-decoration-color: #839496; background-color: #002b36\">839,-0.00869617,-0.0038600645,0.07065123,0.042593006,0.0057239495,-0.0313509,-0.0025959155,-0.038900513,-0.</span> <span style=\"color: #c0c0c0; text-decoration-color: #c0c0c0\">│</span> <span style=\"color: #008000; text-decoration-color: #008000\">│</span>\n",
       "<span style=\"color: #008000; text-decoration-color: #008000\">│</span> <span style=\"color: #c0c0c0; text-decoration-color: #c0c0c0\">│</span> <span style=\"color: #839496; text-decoration-color: #839496; background-color: #002b36\">023413217,0.00089225406,0.02660005,-0.019979436,-0.01786272,-0.026247263,-0.0032132906,-0.02037926,0.008890</span> <span style=\"color: #c0c0c0; text-decoration-color: #c0c0c0\">│</span> <span style=\"color: #008000; text-decoration-color: #008000\">│</span>\n",
       "<span style=\"color: #008000; text-decoration-color: #008000\">│</span> <span style=\"color: #c0c0c0; text-decoration-color: #c0c0c0\">│</span> <span style=\"color: #839496; text-decoration-color: #839496; background-color: #002b36\">202,-0.040923152,0.018474216,0.037371777,-0.0029604607,-0.008619733,0.010548295,-0.030904036,0.036854357,0.</span> <span style=\"color: #c0c0c0; text-decoration-color: #c0c0c0\">│</span> <span style=\"color: #008000; text-decoration-color: #008000\">│</span>\n",
       "<span style=\"color: #008000; text-decoration-color: #008000\">│</span> <span style=\"color: #c0c0c0; text-decoration-color: #c0c0c0\">│</span> <span style=\"color: #839496; text-decoration-color: #839496; background-color: #002b36\">036407493,0.018815242,-0.081046656,-0.015593132,-0.00081802206,-0.008366903,-0.022684127,-0.0006206825,0.02</span> <span style=\"color: #c0c0c0; text-decoration-color: #c0c0c0\">│</span> <span style=\"color: #008000; text-decoration-color: #008000\">│</span>\n",
       "<span style=\"color: #008000; text-decoration-color: #008000\">│</span> <span style=\"color: #c0c0c0; text-decoration-color: #c0c0c0\">│</span> <span style=\"color: #839496; text-decoration-color: #839496; background-color: #002b36\">8387496,0.008102314,0.04447453,0.027940635,-0.0034455413,-0.04040573,-0.034220222,-0.026176706,-0.08852571,</span> <span style=\"color: #c0c0c0; text-decoration-color: #c0c0c0\">│</span> <span style=\"color: #008000; text-decoration-color: #008000\">│</span>\n",
       "<span style=\"color: #008000; text-decoration-color: #008000\">│</span> <span style=\"color: #c0c0c0; text-decoration-color: #c0c0c0\">│</span> <span style=\"color: #839496; text-decoration-color: #839496; background-color: #002b36\">-0.04146409,0.01910923,-0.015851842,0.038312536,0.034384854,0.0095016975,-0.05188303,0.0011303845,-0.002015</span> <span style=\"color: #c0c0c0; text-decoration-color: #c0c0c0\">│</span> <span style=\"color: #008000; text-decoration-color: #008000\">│</span>\n",
       "<span style=\"color: #008000; text-decoration-color: #008000\">│</span> <span style=\"color: #c0c0c0; text-decoration-color: #c0c0c0\">│</span> <span style=\"color: #839496; text-decoration-color: #839496; background-color: #002b36\">289,-0.016733807,-0.02533002,0.03704251,-0.037371777,-0.008219909,0.013735127,-0.029586969,0.031821277,-0.0</span> <span style=\"color: #c0c0c0; text-decoration-color: #c0c0c0\">│</span> <span style=\"color: #008000; text-decoration-color: #008000\">│</span>\n",
       "<span style=\"color: #008000; text-decoration-color: #008000\">│</span> <span style=\"color: #c0c0c0; text-decoration-color: #c0c0c0\">│</span> <span style=\"color: #839496; text-decoration-color: #839496; background-color: #002b36\">6251364,-0.045532886,0.008372783,-0.034831718,0.03906515,-0.009260627,-0.030151427,-0.047579043,-0.01280612</span> <span style=\"color: #c0c0c0; text-decoration-color: #c0c0c0\">│</span> <span style=\"color: #008000; text-decoration-color: #008000\">│</span>\n",
       "<span style=\"color: #008000; text-decoration-color: #008000\">│</span> <span style=\"color: #c0c0c0; text-decoration-color: #c0c0c0\">│</span> <span style=\"color: #839496; text-decoration-color: #839496; background-color: #002b36\">4,-0.008749087,-0.02083788,0.019920638,0.010565935,0.007279147,0.038430132,-0.028128788,0.0119124,0.0002065</span> <span style=\"color: #c0c0c0; text-decoration-color: #c0c0c0\">│</span> <span style=\"color: #008000; text-decoration-color: #008000\">│</span>\n",
       "<span style=\"color: #008000; text-decoration-color: #008000\">│</span> <span style=\"color: #c0c0c0; text-decoration-color: #c0c0c0\">│</span> <span style=\"color: #839496; text-decoration-color: #839496; background-color: #002b36\">2669,-0.080435164,0.016863162,5.1677605e-05,0.0138174435,0.002659123,0.016228147,-0.024365738,0.022272544,0</span> <span style=\"color: #c0c0c0; text-decoration-color: #c0c0c0\">│</span> <span style=\"color: #008000; text-decoration-color: #008000\">│</span>\n",
       "<span style=\"color: #008000; text-decoration-color: #008000\">│</span> <span style=\"color: #c0c0c0; text-decoration-color: #c0c0c0\">│</span> <span style=\"color: #839496; text-decoration-color: #839496; background-color: #002b36\">.038147904,-0.030951073,0.055034585,0.031938873,-0.00090033875,0.0441923,-</span><span style=\"background-color: #002b36\">                                 </span> <span style=\"color: #c0c0c0; text-decoration-color: #c0c0c0\">│</span> <span style=\"color: #008000; text-decoration-color: #008000\">│</span>\n",
       "<span style=\"color: #008000; text-decoration-color: #008000\">│</span> <span style=\"color: #c0c0c0; text-decoration-color: #c0c0c0\">╰─────────────────────────────────────────────────────────────────────────────────────────────────────────────╯</span> <span style=\"color: #008000; text-decoration-color: #008000\">│</span>\n",
       "<span style=\"color: #008000; text-decoration-color: #008000\">╰─────────────────────────────────────────────────────────────────────────────────────────────────────────────────╯</span>\n",
       "</pre>\n"
      ],
      "text/plain": [
       "\u001b[32m╭─\u001b[0m\u001b[32m─────────────────────────────────────────\u001b[0m\u001b[32m \u001b[0m\u001b[1;36mInvocation & Policy Summary\u001b[0m\u001b[32m \u001b[0m\u001b[32m─────────────────────────────────────────\u001b[0m\u001b[32m─╮\u001b[0m\n",
       "\u001b[32m│\u001b[0m \u001b[3m   Invocation Results    \u001b[0m                                                                                       \u001b[32m│\u001b[0m\n",
       "\u001b[32m│\u001b[0m ┏━━━━━━━━━━━┳━━━━━━━━━━━┓                                                                                       \u001b[32m│\u001b[0m\n",
       "\u001b[32m│\u001b[0m ┃\u001b[1;37m \u001b[0m\u001b[1;37mComponent\u001b[0m\u001b[1;37m \u001b[0m┃\u001b[1;37m \u001b[0m\u001b[1;37m Outcome \u001b[0m\u001b[1;37m \u001b[0m┃                                                                                       \u001b[32m│\u001b[0m\n",
       "\u001b[32m│\u001b[0m ┡━━━━━━━━━━━╇━━━━━━━━━━━┩                                                                                       \u001b[32m│\u001b[0m\n",
       "\u001b[32m│\u001b[0m │\u001b[2m \u001b[0m\u001b[2mInput    \u001b[0m\u001b[2m \u001b[0m│ \u001b[33m⚠️ ALTERED\u001b[0m │                                                                                       \u001b[32m│\u001b[0m\n",
       "\u001b[32m│\u001b[0m └───────────┴───────────┘                                                                                       \u001b[32m│\u001b[0m\n",
       "\u001b[32m│\u001b[0m \u001b[3m                                                                                                           \u001b[0m     \u001b[32m│\u001b[0m\n",
       "\u001b[32m│\u001b[0m \u001b[3m                                              Policy Results                                               \u001b[0m     \u001b[32m│\u001b[0m\n",
       "\u001b[32m│\u001b[0m ┏━━━━━━━━━━━━━━━━━━━━━━━━━━━━━━━━┳━━━━━━━━━━━━━━━━━━━━━━━━━━━━━━━━━━━━━━━━━━━━━━━━━━━━━━━━━━━━━━━━━━━━━━━━┓     \u001b[32m│\u001b[0m\n",
       "\u001b[32m│\u001b[0m ┃\u001b[1;37m \u001b[0m\u001b[1;37mPolicy                        \u001b[0m\u001b[1;37m \u001b[0m┃\u001b[1;37m \u001b[0m\u001b[1;37mDetails                                                               \u001b[0m\u001b[1;37m \u001b[0m┃     \u001b[32m│\u001b[0m\n",
       "\u001b[32m│\u001b[0m ┡━━━━━━━━━━━━━━━━━━━━━━━━━━━━━━━━╇━━━━━━━━━━━━━━━━━━━━━━━━━━━━━━━━━━━━━━━━━━━━━━━━━━━━━━━━━━━━━━━━━━━━━━━━┩     \u001b[32m│\u001b[0m\n",
       "\u001b[32m│\u001b[0m │\u001b[2m \u001b[0m\u001b[2mPII_detected                  \u001b[0m\u001b[2m \u001b[0m│ \u001b[38;2;42;161;152;48;2;0;43;54mtrue\u001b[0m\u001b[48;2;0;43;54m                                                                  \u001b[0m │     \u001b[32m│\u001b[0m\n",
       "\u001b[32m│\u001b[0m └────────────────────────────────┴────────────────────────────────────────────────────────────────────────┘     \u001b[32m│\u001b[0m\n",
       "\u001b[32m│\u001b[0m \u001b[33m╭─\u001b[0m\u001b[33m \u001b[0m\u001b[1;33mProcessed Input\u001b[0m\u001b[33m \u001b[0m\u001b[33m──────────────────────────────────────────────────────────────────────────────────────────\u001b[0m\u001b[33m─╮\u001b[0m \u001b[32m│\u001b[0m\n",
       "\u001b[32m│\u001b[0m \u001b[33m│\u001b[0m \u001b[48;2;0;43;54m                                                                                                           \u001b[0m \u001b[33m│\u001b[0m \u001b[32m│\u001b[0m\n",
       "\u001b[32m│\u001b[0m \u001b[33m│\u001b[0m \u001b[38;2;131;148;150;48;2;0;43;54mDear [PERSON_NAME],\u001b[0m\u001b[48;2;0;43;54m                                                                                        \u001b[0m \u001b[33m│\u001b[0m \u001b[32m│\u001b[0m\n",
       "\u001b[32m│\u001b[0m \u001b[33m│\u001b[0m \u001b[48;2;0;43;54m                                                                                                           \u001b[0m \u001b[33m│\u001b[0m \u001b[32m│\u001b[0m\n",
       "\u001b[32m│\u001b[0m \u001b[33m│\u001b[0m \u001b[38;2;131;148;150;48;2;0;43;54mWe're glad to inform you that your visa application for passport number [GOVERNMENT_ID] has been \u001b[0m\u001b[48;2;0;43;54m          \u001b[0m \u001b[33m│\u001b[0m \u001b[32m│\u001b[0m\n",
       "\u001b[32m│\u001b[0m \u001b[33m│\u001b[0m \u001b[38;2;131;148;150;48;2;0;43;54msuccessfull...\u001b[0m\u001b[48;2;0;43;54m                                                                                             \u001b[0m \u001b[33m│\u001b[0m \u001b[32m│\u001b[0m\n",
       "\u001b[32m│\u001b[0m \u001b[33m│\u001b[0m \u001b[48;2;0;43;54m                                                                                                           \u001b[0m \u001b[33m│\u001b[0m \u001b[32m│\u001b[0m\n",
       "\u001b[32m│\u001b[0m \u001b[33m╰─────────────────────────────────────────────────────────────────────────────────────────────────────────────╯\u001b[0m \u001b[32m│\u001b[0m\n",
       "\u001b[32m│\u001b[0m \u001b[37m╭─\u001b[0m\u001b[37m \u001b[0m\u001b[1;37mProcessed Output\u001b[0m\u001b[37m \u001b[0m\u001b[37m─────────────────────────────────────────────────────────────────────────────────────────\u001b[0m\u001b[37m─╮\u001b[0m \u001b[32m│\u001b[0m\n",
       "\u001b[32m│\u001b[0m \u001b[37m│\u001b[0m \u001b[38;2;131;148;150;48;2;0;43;54m{0.025000753,-0.004662652,0.004994859,-0.031680163,-0.014123191,-0.0338204,-0.00087020494,0.023871839,-0.00\u001b[0m \u001b[37m│\u001b[0m \u001b[32m│\u001b[0m\n",
       "\u001b[32m│\u001b[0m \u001b[37m│\u001b[0m \u001b[38;2;131;148;150;48;2;0;43;54m69440003,-0.03175072,0.014170229,-0.02681172,-0.046567723,0.028105268,0.00066184084,0.048449248,-0.01441718\u001b[0m \u001b[37m│\u001b[0m \u001b[32m│\u001b[0m\n",
       "\u001b[32m│\u001b[0m \u001b[37m│\u001b[0m \u001b[38;2;131;148;150;48;2;0;43;54m,0.03873588,-0.06260772,0.0036895515,0.050848193,0.023248583,0.013229467,-0.020955477,0.008972519,-0.018803\u001b[0m \u001b[37m│\u001b[0m \u001b[32m│\u001b[0m\n",
       "\u001b[32m│\u001b[0m \u001b[37m│\u001b[0m \u001b[38;2;131;148;150;48;2;0;43;54m483,-0.017933277,-0.043133944,0.033914473,-0.0436984,0.03445541,-0.009013677,0.009672211,0.0650537,-0.02415\u001b[0m \u001b[37m│\u001b[0m \u001b[32m│\u001b[0m\n",
       "\u001b[32m│\u001b[0m \u001b[37m│\u001b[0m \u001b[38;2;131;148;150;48;2;0;43;54m4067,0.021225946,-0.0338204,-0.012371022,-0.027352659,-0.0074908184,0.031703684,0.004742029,0.027658407,0.0\u001b[0m \u001b[37m│\u001b[0m \u001b[32m│\u001b[0m\n",
       "\u001b[32m│\u001b[0m \u001b[37m│\u001b[0m \u001b[38;2;131;148;150;48;2;0;43;54m18544773,-0.017956797,0.05343529,-0.00046854364,-0.036360458,0.017756885,0.03847717,0.024812602,-0.00609731\u001b[0m \u001b[37m│\u001b[0m \u001b[32m│\u001b[0m\n",
       "\u001b[32m│\u001b[0m \u001b[37m│\u001b[0m \u001b[38;2;131;148;150;48;2;0;43;54m44,-0.0058268453,0.086314924,-0.017733365,-0.048402213,0.051083382,-0.009607533,-0.031397935,-0.03499635,0.\u001b[0m \u001b[37m│\u001b[0m \u001b[32m│\u001b[0m\n",
       "\u001b[32m│\u001b[0m \u001b[37m│\u001b[0m \u001b[38;2;131;148;150;48;2;0;43;54m0018785844,0.003028078,-0.0019770705,-0.009125393,0.031656645,0.016122311,-0.0035102186,0.05216526,0.023871\u001b[0m \u001b[37m│\u001b[0m \u001b[32m│\u001b[0m\n",
       "\u001b[32m│\u001b[0m \u001b[37m│\u001b[0m \u001b[38;2;131;148;150;48;2;0;43;54m839,-0.00869617,-0.0038600645,0.07065123,0.042593006,0.0057239495,-0.0313509,-0.0025959155,-0.038900513,-0.\u001b[0m \u001b[37m│\u001b[0m \u001b[32m│\u001b[0m\n",
       "\u001b[32m│\u001b[0m \u001b[37m│\u001b[0m \u001b[38;2;131;148;150;48;2;0;43;54m023413217,0.00089225406,0.02660005,-0.019979436,-0.01786272,-0.026247263,-0.0032132906,-0.02037926,0.008890\u001b[0m \u001b[37m│\u001b[0m \u001b[32m│\u001b[0m\n",
       "\u001b[32m│\u001b[0m \u001b[37m│\u001b[0m \u001b[38;2;131;148;150;48;2;0;43;54m202,-0.040923152,0.018474216,0.037371777,-0.0029604607,-0.008619733,0.010548295,-0.030904036,0.036854357,0.\u001b[0m \u001b[37m│\u001b[0m \u001b[32m│\u001b[0m\n",
       "\u001b[32m│\u001b[0m \u001b[37m│\u001b[0m \u001b[38;2;131;148;150;48;2;0;43;54m036407493,0.018815242,-0.081046656,-0.015593132,-0.00081802206,-0.008366903,-0.022684127,-0.0006206825,0.02\u001b[0m \u001b[37m│\u001b[0m \u001b[32m│\u001b[0m\n",
       "\u001b[32m│\u001b[0m \u001b[37m│\u001b[0m \u001b[38;2;131;148;150;48;2;0;43;54m8387496,0.008102314,0.04447453,0.027940635,-0.0034455413,-0.04040573,-0.034220222,-0.026176706,-0.08852571,\u001b[0m \u001b[37m│\u001b[0m \u001b[32m│\u001b[0m\n",
       "\u001b[32m│\u001b[0m \u001b[37m│\u001b[0m \u001b[38;2;131;148;150;48;2;0;43;54m-0.04146409,0.01910923,-0.015851842,0.038312536,0.034384854,0.0095016975,-0.05188303,0.0011303845,-0.002015\u001b[0m \u001b[37m│\u001b[0m \u001b[32m│\u001b[0m\n",
       "\u001b[32m│\u001b[0m \u001b[37m│\u001b[0m \u001b[38;2;131;148;150;48;2;0;43;54m289,-0.016733807,-0.02533002,0.03704251,-0.037371777,-0.008219909,0.013735127,-0.029586969,0.031821277,-0.0\u001b[0m \u001b[37m│\u001b[0m \u001b[32m│\u001b[0m\n",
       "\u001b[32m│\u001b[0m \u001b[37m│\u001b[0m \u001b[38;2;131;148;150;48;2;0;43;54m6251364,-0.045532886,0.008372783,-0.034831718,0.03906515,-0.009260627,-0.030151427,-0.047579043,-0.01280612\u001b[0m \u001b[37m│\u001b[0m \u001b[32m│\u001b[0m\n",
       "\u001b[32m│\u001b[0m \u001b[37m│\u001b[0m \u001b[38;2;131;148;150;48;2;0;43;54m4,-0.008749087,-0.02083788,0.019920638,0.010565935,0.007279147,0.038430132,-0.028128788,0.0119124,0.0002065\u001b[0m \u001b[37m│\u001b[0m \u001b[32m│\u001b[0m\n",
       "\u001b[32m│\u001b[0m \u001b[37m│\u001b[0m \u001b[38;2;131;148;150;48;2;0;43;54m2669,-0.080435164,0.016863162,5.1677605e-05,0.0138174435,0.002659123,0.016228147,-0.024365738,0.022272544,0\u001b[0m \u001b[37m│\u001b[0m \u001b[32m│\u001b[0m\n",
       "\u001b[32m│\u001b[0m \u001b[37m│\u001b[0m \u001b[38;2;131;148;150;48;2;0;43;54m.038147904,-0.030951073,0.055034585,0.031938873,-0.00090033875,0.0441923,-\u001b[0m\u001b[48;2;0;43;54m                                 \u001b[0m \u001b[37m│\u001b[0m \u001b[32m│\u001b[0m\n",
       "\u001b[32m│\u001b[0m \u001b[37m╰─────────────────────────────────────────────────────────────────────────────────────────────────────────────╯\u001b[0m \u001b[32m│\u001b[0m\n",
       "\u001b[32m╰─────────────────────────────────────────────────────────────────────────────────────────────────────────────────╯\u001b[0m\n"
      ]
     },
     "metadata": {},
     "output_type": "display_data"
    }
   ],
   "source": [
    "result.summary()"
   ]
  },
  {
   "cell_type": "code",
   "execution_count": null,
   "id": "b8d27ba6-a0cc-4159-946e-d0f20bee9d84",
   "metadata": {},
   "outputs": [],
   "source": []
  }
 ],
 "metadata": {
  "kernelspec": {
   "display_name": "gen-env-312",
   "language": "python",
   "name": "gen-env-312"
  },
  "language_info": {
   "codemirror_mode": {
    "name": "ipython",
    "version": 3
   },
   "file_extension": ".py",
   "mimetype": "text/x-python",
   "name": "python",
   "nbconvert_exporter": "python",
   "pygments_lexer": "ipython3",
   "version": "3.12.2"
  }
 },
 "nbformat": 4,
 "nbformat_minor": 5
}
